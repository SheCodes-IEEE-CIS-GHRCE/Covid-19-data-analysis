{
 "cells": [
  {
   "cell_type": "code",
   "execution_count": 17,
   "metadata": {},
   "outputs": [],
   "source": [
    "import pandas as pd\n",
    "import numpy as np\n",
    "import matplotlib.pyplot as plt\n",
    "%matplotlib inline\n",
    "\n",
    "from sklearn.linear_model import LogisticRegression\n",
    "from sklearn.multiclass import OneVsRestClassifier\n",
    "from sklearn.model_selection import train_test_split\n",
    "from sklearn.model_selection import GridSearchCV \n",
    "from sklearn.model_selection import cross_val_score\n",
    "from sklearn.model_selection import cross_val_score\n",
    "from sklearn.neighbors import KNeighborsClassifier\n",
    "\n",
    "from sklearn.svm import LinearSVC\n",
    "from sklearn.svm import SVC\n",
    "\n",
    "from sklearn.metrics import classification_report\n",
    "from sklearn.metrics import confusion_matrix\n",
    "\n",
    "from sklearn.metrics import roc_curve\n",
    "from sklearn.metrics import roc_auc_score"
   ]
  },
  {
   "cell_type": "code",
   "execution_count": 23,
   "metadata": {},
   "outputs": [
    {
     "name": "stdout",
     "output_type": "stream",
     "text": [
      "   cough  fever  sore_throat  shortness_of_breath  head_ache  \\\n",
      "0      1      0            0                    0          0   \n",
      "1      1      1            0                    0          0   \n",
      "2      0      0            0                    0          0   \n",
      "3      0      0            0                    0          0   \n",
      "4      0      0            0                    0          0   \n",
      "\n",
      "   age_60_and_above  gender  Abroad  Contact  No_activite  corona_result  \n",
      "0                 0       1       1        0            0              0  \n",
      "1                 0       1       0        0            1              0  \n",
      "2                 0       1       0        0            1              1  \n",
      "3                 0       1       0        0            1              1  \n",
      "4                 0       1       0        0            1              1  \n"
     ]
    }
   ],
   "source": [
    "df = pd.read_csv(\"CleanData.csv\")\n",
    "print(df.head())\n"
   ]
  },
  {
   "cell_type": "code",
   "execution_count": 24,
   "metadata": {},
   "outputs": [
    {
     "name": "stdout",
     "output_type": "stream",
     "text": [
      "(47998, 11)\n",
      "<class 'pandas.core.frame.DataFrame'>\n",
      "RangeIndex: 47998 entries, 0 to 47997\n",
      "Data columns (total 11 columns):\n",
      " #   Column               Non-Null Count  Dtype\n",
      "---  ------               --------------  -----\n",
      " 0   cough                47998 non-null  int64\n",
      " 1   fever                47998 non-null  int64\n",
      " 2   sore_throat          47998 non-null  int64\n",
      " 3   shortness_of_breath  47998 non-null  int64\n",
      " 4   head_ache            47998 non-null  int64\n",
      " 5   age_60_and_above     47998 non-null  int64\n",
      " 6   gender               47998 non-null  int64\n",
      " 7   Abroad               47998 non-null  int64\n",
      " 8   Contact              47998 non-null  int64\n",
      " 9   No_activite          47998 non-null  int64\n",
      " 10  corona_result        47998 non-null  int64\n",
      "dtypes: int64(11)\n",
      "memory usage: 4.0 MB\n",
      "None\n"
     ]
    }
   ],
   "source": [
    "print(df.shape)\n",
    "print(df.info())"
   ]
  },
  {
   "cell_type": "code",
   "execution_count": 4,
   "metadata": {
    "scrolled": true
   },
   "outputs": [
    {
     "name": "stdout",
     "output_type": "stream",
     "text": [
      "              cough         fever   sore_throat  shortness_of_breath  \\\n",
      "count  47998.000000  47998.000000  47998.000000         47998.000000   \n",
      "mean       0.750740      0.386204      0.039397             0.032189   \n",
      "std        0.432589      0.486883      0.194541             0.176503   \n",
      "min        0.000000      0.000000      0.000000             0.000000   \n",
      "25%        1.000000      0.000000      0.000000             0.000000   \n",
      "50%        1.000000      0.000000      0.000000             0.000000   \n",
      "75%        1.000000      1.000000      0.000000             0.000000   \n",
      "max        1.000000      1.000000      1.000000             1.000000   \n",
      "\n",
      "          head_ache  age_60_and_above        gender        Abroad  \\\n",
      "count  47998.000000      47998.000000  47998.000000  47998.000000   \n",
      "mean       0.049523          0.107963      0.638068      0.381828   \n",
      "std        0.216959          0.310337      0.480564      0.485840   \n",
      "min        0.000000          0.000000      0.000000      0.000000   \n",
      "25%        0.000000          0.000000      0.000000      0.000000   \n",
      "50%        0.000000          0.000000      1.000000      0.000000   \n",
      "75%        0.000000          0.000000      1.000000      1.000000   \n",
      "max        1.000000          1.000000      1.000000      1.000000   \n",
      "\n",
      "            Contact   No_activite  corona_result  \n",
      "count  47998.000000  47998.000000   47998.000000  \n",
      "mean       0.198217      0.419955       0.304784  \n",
      "std        0.398660      0.493556       0.460320  \n",
      "min        0.000000      0.000000       0.000000  \n",
      "25%        0.000000      0.000000       0.000000  \n",
      "50%        0.000000      0.000000       0.000000  \n",
      "75%        0.000000      1.000000       1.000000  \n",
      "max        1.000000      1.000000       1.000000  \n"
     ]
    }
   ],
   "source": [
    "print(df.describe())"
   ]
  },
  {
   "cell_type": "code",
   "execution_count": 25,
   "metadata": {},
   "outputs": [
    {
     "name": "stdout",
     "output_type": "stream",
     "text": [
      "(47998, 6)\n",
      "(47998,)\n"
     ]
    }
   ],
   "source": [
    "df=df.drop('Abroad',axis=1)\n",
    "df=df.drop('Contact',axis=1)\n",
    "df=df.drop('No_activite',axis=1)\n",
    "df=df.drop('gender',axis=1)\n",
    "\n",
    "X=df.drop('corona_result',axis=1).values\n",
    "Y = df['corona_result'].values\n",
    "\n",
    "print(X.shape)\n",
    "print(Y.shape)\n",
    "\n"
   ]
  },
  {
   "cell_type": "code",
   "execution_count": 6,
   "metadata": {},
   "outputs": [],
   "source": [
    "#from sklearn.datasets import make_blobs\n",
    "\n",
    "#x,y = make_blobs(n_samples=200, centers=2, n_features=3, random_state=0)\n",
    "#print(x.shape)\n",
    "#print(y)"
   ]
  },
  {
   "cell_type": "code",
   "execution_count": 36,
   "metadata": {},
   "outputs": [
    {
     "data": {
      "image/png": "[encoded data removed]",
      "text/plain": [
       "<Figure size 432x288 with 1 Axes>"
      ]
     },
     "metadata": {
      "needs_background": "light"
     },
     "output_type": "display_data"
    }
   ],
   "source": [
    "#plt.scatter(x[:,0],x[:,1],x[:,2], c=y)\n",
    "#plt.show()\n"
   ]
  },
  {
   "cell_type": "code",
   "execution_count": 30,
   "metadata": {},
   "outputs": [],
   "source": [
    "#x, y = make_blobs(n_samples=300, centers=2, n_features=3, random_state=0)\n",
    "#print(x.shape)\n",
    "#print(y)\n",
    "\n",
    "#plt.scatter(x[:,0],x[:,1],x[:,2], c=y)\n",
    "#plt.show()"
   ]
  },
  {
   "cell_type": "code",
   "execution_count": 26,
   "metadata": {},
   "outputs": [
    {
     "name": "stdout",
     "output_type": "stream",
     "text": [
      "(47998, 6) (47998,)\n"
     ]
    }
   ],
   "source": [
    "print(X.shape,Y.shape)\n",
    "X_train, X_test, Y_train, Y_test = train_test_split(X, Y,\n",
    "test_size=0.3, random_state=42)\n",
    "\n",
    "#print(\"done\")"
   ]
  },
  {
   "cell_type": "code",
   "execution_count": 11,
   "metadata": {},
   "outputs": [],
   "source": [
    "#Model Selection- Linearly Saparable so Model that can be use are : Knn model,Logistic,LinearSVC,SVM "
   ]
  },
  {
   "cell_type": "code",
   "execution_count": 27,
   "metadata": {},
   "outputs": [
    {
     "name": "stdout",
     "output_type": "stream",
     "text": [
      "0.8724626465861063\n",
      "0.8703472222222223\n",
      "              precision    recall  f1-score   support\n",
      "\n",
      "           0       0.87      0.96      0.91     10038\n",
      "           1       0.89      0.66      0.75      4362\n",
      "\n",
      "    accuracy                           0.87     14400\n",
      "   macro avg       0.88      0.81      0.83     14400\n",
      "weighted avg       0.87      0.87      0.86     14400\n",
      "\n"
     ]
    }
   ],
   "source": [
    "# SUPPORT VECTOR MACHINE\n",
    "\n",
    "svm = SVC()  \n",
    "svm.fit(X_train,Y_train);\n",
    "print(svm.score(X_train,Y_train))\n",
    "\n",
    "y_pred = svm.predict(X_test)\n",
    "print(svm.score(X_test,Y_test))\n",
    "\n",
    "print(classification_report(Y_test, y_pred))\n"
   ]
  },
  {
   "cell_type": "code",
   "execution_count": 11,
   "metadata": {},
   "outputs": [
    {
     "name": "stdout",
     "output_type": "stream",
     "text": [
      "[0 0 1 ... 0 0 0]\n"
     ]
    }
   ],
   "source": [
    "print(y_pred)"
   ]
  },
  {
   "cell_type": "code",
   "execution_count": 12,
   "metadata": {},
   "outputs": [
    {
     "name": "stdout",
     "output_type": "stream",
     "text": [
      "(14400,)\n"
     ]
    }
   ],
   "source": [
    " print(y_pred.shape)"
   ]
  },
  {
   "cell_type": "code",
   "execution_count": null,
   "metadata": {},
   "outputs": [],
   "source": [
    " # GUI CODE USING TKINTER"
   ]
  },
  {
   "cell_type": "code",
   "execution_count": 36,
   "metadata": {},
   "outputs": [],
   "source": [
    "# Required GUI Packages \n",
    "from tkinter import*\n",
    "from PIL import ImageTk\n",
    "from tkinter import messagebox\n",
    "import math\n",
    "\n",
    "class Main:\n",
    "    def __init__(self,root):\n",
    "        self.root = root\n",
    "        \n",
    "        #-----Title of Window------#\n",
    "        self.root.title(\"Prediction of Corona Positive\")\n",
    "        \n",
    "        #-----Setting Size of Window---#\n",
    "        self.root.geometry(\"1199x600+100+50\")\n",
    "        \n",
    "        #----Disable Resize button--#\n",
    "        self.root.resizable(False,False)\n",
    "        \n",
    "        #-----Back-Ground Image----#\n",
    "        self.bg = PhotoImage(file =\"image/bg.png\")\n",
    "        self.bg_image = Label( self.root , image=self.bg )\n",
    "        self.bg_image.place( x=0 , y=0 , relwidth=1 , relheight=1 ) \n",
    "        \n",
    "        #-----Create Form for Entering Symptom----#\n",
    "        Frame_sptm = Frame( self.root , bg=\"white\")\n",
    "        Frame_sptm.place(x=270 , y=60 , height=400 , width=700)\n",
    "        \n",
    "        #---Create Label----#\n",
    "        title = Label(Frame_sptm , text=\"-Corona Prediction Tool-\" , font =(\"Calibri\",35,\"bold\") , bg = \"#154e7d\" , fg = \"white\")\n",
    "        title.place(x=120,y=30)\n",
    "        \n",
    "        title_n = Label(Frame_sptm , text=\"Answer Y/N\" , font =(\"Calibri\",13 ) , bg=\"white\", fg = \"black\")   #Yes/No\n",
    "        title_n.place(x=320,y=100)\n",
    "        \n",
    "        title_1 = Label(Frame_sptm , text=\"Fever?\" , font =(\"Calibri\",15,\"bold\") , bg=\"white\", fg = \"#154e7d\")\n",
    "        title_1.place(x=40,y=140)\n",
    "        #----Textbox---#\n",
    "        self.text_1 = Entry(Frame_sptm, font=(\"Calibri\",14), bg=\"#f6fafd\")\n",
    "        self.text_1.place(x=180,y=140,width=100,height=30)\n",
    "        \n",
    "        title_2 = Label(Frame_sptm , text=\"Cough?\" , font =(\"Calibri\",15,\"bold\") , bg=\"white\", fg = \"#154e7d\")\n",
    "        title_2.place(x=40,y=200)\n",
    "        #----Textbox---#\n",
    "        self.text_2 = Entry(Frame_sptm, font=(\"Calibri\",14), bg=\"#f6fafd\")\n",
    "        self.text_2.place(x=180,y=200,width=100,height=30)\n",
    "        \n",
    "        title_3 = Label(Frame_sptm , text=\"Sore Throat?\" , font =(\"Calibri\",15,\"bold\") , bg=\"white\", fg = \"#154e7d\")\n",
    "        title_3.place(x=40,y=260)\n",
    "        #----Textbox---#\n",
    "        self.text_3 = Entry(Frame_sptm, font=(\"Calibri\",14), bg=\"#f6fafd\")\n",
    "        self.text_3.place(x=180,y=260,width=100,height=30)\n",
    "        \n",
    "        \n",
    "        \n",
    "        title_4 = Label(Frame_sptm , text=\"Shortness of breath?\" , font =(\"Calibri\",15,\"bold\") , bg=\"white\", fg = \"#154e7d\")\n",
    "        title_4.place(x=340,y=140)\n",
    "        #----Textbox---#\n",
    "        self.text_4 = Entry(Frame_sptm, font=(\"Calibri\",14), bg=\"#f6fafd\")\n",
    "        self.text_4.place(x=550,y=140,width=100,height=30)\n",
    "        \n",
    "        title_5 = Label(Frame_sptm , text=\"Headache?\" , font =(\"Calibri\",15,\"bold\") , bg=\"white\", fg = \"#154e7d\")\n",
    "        title_5.place(x=340,y=200)\n",
    "        #----Textbox---#\n",
    "        self.text_5 = Entry(Frame_sptm, font=(\"Calibri\",14), bg=\"#f6fafd\")\n",
    "        self.text_5.place(x=550,y=200,width=100,height=30)\n",
    "        \n",
    "        title_6 = Label(Frame_sptm , text=\"Age more than 60?\" , font =(\"Calibri\",15,\"bold\") , bg=\"white\", fg = \"#154e7d\")\n",
    "        title_6.place(x=340,y=260)\n",
    "        #----Textbox---#\n",
    "        self.text_6 = Entry(Frame_sptm, font=(\"Calibri\",14), bg=\"#f6fafd\")\n",
    "        self.text_6.place(x=550,y=260,width=100,height=30)\n",
    "        \n",
    "       \n",
    "        btn = Button(self.root, command= self.main_function, text= \"Predict\",bg = \"#154e7d\", fg = \"white\", font=(\"Calibri\",20))\n",
    "        btn.place(x=520,y=390,width=170,height=40)\n",
    "        \n",
    "    def main_function(self):\n",
    "        \n",
    "         \n",
    "        if self.text_1.get()=='Y'or self.text_1.get()=='y':\n",
    "            self.a=1\n",
    "        else:\n",
    "            self.a=0\n",
    "        \n",
    "        if self.text_2.get()=='Y'or self.text_2.get()=='y':\n",
    "            self.b=1\n",
    "        else:\n",
    "            self.b=0\n",
    "         \n",
    "        if self.text_3.get()=='Y'or self.text_3.get()=='y':\n",
    "            self.c=1\n",
    "        else:\n",
    "            self.c=0\n",
    "            \n",
    "      \n",
    "        if self.text_4.get()=='Y'or self.text_4.get()=='y':\n",
    "            self.d=1\n",
    "        else:\n",
    "            self.d=0\n",
    "        \n",
    "        \n",
    "        if self.text_5.get()=='Y'or self.text_5.get()=='y':\n",
    "            self.e=1\n",
    "        else:\n",
    "            self.e=0\n",
    "        \n",
    "        if self.text_6.get()=='Y'or self.text_6.get()=='y':\n",
    "            self.f=1\n",
    "        else:\n",
    "            self.f=0\n",
    "        \n",
    "        \n",
    "        Xnew = [[self.a,self.b,self.c,self.d,self.e,self.f]]\n",
    "    \n",
    "            \n",
    "        \n",
    "        #-----if textboxs are empty----#\n",
    "        if self.text_1.get()==\" \" or self.text_2.get()==\"\" or self.text_3.get()==\"\" or self.text_4.get()==\" \" or self.text_5.get()==\"\" or self.text_6.get()==\"\":\n",
    "            messagebox.showerror(\"Error\", \"All fields are required\",parent=self.root)\n",
    "        \n",
    "        #----if textboxs arenon-empty----#\n",
    "        else:\n",
    "            if self.text_1.get()=='Y' or self.text_1.get()=='y' or self.text_1.get()=='N' or self.text_1.get()=='n':\n",
    "                \n",
    "                if self.text_2.get()=='Y' or self.text_2.get()=='y' or self.text_2.get()=='N' or self.text_2.get()=='n':\n",
    "                    \n",
    "                    if self.text_3.get()=='Y' or self.text_3.get()=='y' or self.text_3.get()=='N' or self.text_3.get()=='n':\n",
    "                        \n",
    "                        if self.text_4.get()=='Y' or self.text_4.get()=='y' or self.text_4.get()=='N' or self.text_4.get()=='n':\n",
    "                            \n",
    "                            if self.text_5.get()=='Y' or self.text_5.get()=='y' or self.text_5.get()=='N' or self.text_5.get()=='n':\n",
    "                                \n",
    "                                if self.text_6.get()=='Y' or self.text_6.get()=='y' or self.text_6.get()=='N' or self.text_6.get()=='n':\n",
    "                                    \n",
    "                                    result = svm.predict(Xnew)\n",
    "                                    \n",
    "                                    messagebox.showinfo(\"Predicted Result\",f\"Predicted Result of Covid 19\\n {result}\",parent=self.root)\n",
    "                    else:\n",
    "                        messagebox.showerror(\"Error\", \"Please Enter Y or N\",parent=self.root) \n",
    "                else:  \n",
    "                    messagebox.showerror(\"Error\", \"Please Enter Y or N\",parent=self.root)\n",
    "            else:\n",
    "                messagebox.showerror(\"Error\", \"Please Enter Y or N\",parent=self.root)\n",
    "                \n",
    "        \n",
    "root = Tk()\n",
    "obj = Main(root)\n",
    "root.mainloop()        \n",
    "\n"
   ]
  },
  {
   "cell_type": "code",
   "execution_count": null,
   "metadata": {},
   "outputs": [],
   "source": []
  }
 ],
 "metadata": {
  "kernelspec": {
   "display_name": "Python 3",
   "language": "python",
   "name": "python3"
  },
  "language_info": {
   "codemirror_mode": {
    "name": "ipython",
    "version": 3
   },
   "file_extension": ".py",
   "mimetype": "text/x-python",
   "name": "python",
   "nbconvert_exporter": "python",
   "pygments_lexer": "ipython3",
   "version": "3.7.3"
  }
 },
 "nbformat": 4,
 "nbformat_minor": 4
}
