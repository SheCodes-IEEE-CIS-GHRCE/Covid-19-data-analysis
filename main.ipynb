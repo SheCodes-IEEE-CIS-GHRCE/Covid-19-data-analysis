{
 "cells": [
  {
   "cell_type": "code",
   "execution_count": 175,
   "metadata": {},
   "outputs": [],
   "source": [
    "import pandas as pd\n",
    "import numpy as np\n",
    "import matplotlib.pyplot as plt\n",
    "%matplotlib inline\n",
    "\n",
    "from sklearn.linear_model import LogisticRegression\n",
    "from sklearn.multiclass import OneVsRestClassifier\n",
    "from sklearn.model_selection import train_test_split\n",
    "from sklearn.model_selection import GridSearchCV \n",
    "from sklearn.model_selection import cross_val_score\n",
    "from sklearn.model_selection import cross_val_score\n",
    "from sklearn.neighbors import KNeighborsClassifier\n",
    "\n",
    "from sklearn.svm import LinearSVC\n",
    "from sklearn.svm import SVC\n",
    "\n",
    "from sklearn.metrics import classification_report\n",
    "from sklearn.metrics import confusion_matrix\n",
    "\n",
    "from sklearn.metrics import roc_curve\n",
    "from sklearn.metrics import roc_auc_score"
   ]
  },
  {
   "cell_type": "code",
   "execution_count": 125,
   "metadata": {},
   "outputs": [
    {
     "name": "stdout",
     "output_type": "stream",
     "text": [
      "   cough  fever  sore_throat  shortness_of_breath  head_ache  \\\n",
      "0      1      0            0                    0          0   \n",
      "1      1      1            0                    0          0   \n",
      "2      0      0            0                    0          0   \n",
      "3      0      0            0                    0          0   \n",
      "4      0      0            0                    0          0   \n",
      "\n",
      "   age_60_and_above  gender  Abroad  Contact  No_activite  corona_result  \n",
      "0                 0       1       1        0            0              0  \n",
      "1                 0       1       0        0            1              0  \n",
      "2                 0       1       0        0            1              1  \n",
      "3                 0       1       0        0            1              1  \n",
      "4                 0       1       0        0            1              1  \n"
     ]
    }
   ],
   "source": [
    "df = pd.read_csv(\"CleanData.csv\")\n",
    "print(df.head())\n"
   ]
  },
  {
   "cell_type": "code",
   "execution_count": 94,
   "metadata": {},
   "outputs": [
    {
     "name": "stdout",
     "output_type": "stream",
     "text": [
      "(47998, 11)\n",
      "<class 'pandas.core.frame.DataFrame'>\n",
      "RangeIndex: 47998 entries, 0 to 47997\n",
      "Data columns (total 11 columns):\n",
      " #   Column               Non-Null Count  Dtype\n",
      "---  ------               --------------  -----\n",
      " 0   cough                47998 non-null  int64\n",
      " 1   fever                47998 non-null  int64\n",
      " 2   sore_throat          47998 non-null  int64\n",
      " 3   shortness_of_breath  47998 non-null  int64\n",
      " 4   head_ache            47998 non-null  int64\n",
      " 5   age_60_and_above     47998 non-null  int64\n",
      " 6   gender               47998 non-null  int64\n",
      " 7   Abroad               47998 non-null  int64\n",
      " 8   Contact              47998 non-null  int64\n",
      " 9   No_activite          47998 non-null  int64\n",
      " 10  corona_result        47998 non-null  int64\n",
      "dtypes: int64(11)\n",
      "memory usage: 4.0 MB\n",
      "None\n"
     ]
    }
   ],
   "source": [
    "print(df.shape)\n",
    "print(df.info())"
   ]
  },
  {
   "cell_type": "code",
   "execution_count": 95,
   "metadata": {
    "scrolled": true
   },
   "outputs": [
    {
     "name": "stdout",
     "output_type": "stream",
     "text": [
      "              cough         fever   sore_throat  shortness_of_breath  \\\n",
      "count  47998.000000  47998.000000  47998.000000         47998.000000   \n",
      "mean       0.750740      0.386204      0.039397             0.032189   \n",
      "std        0.432589      0.486883      0.194541             0.176503   \n",
      "min        0.000000      0.000000      0.000000             0.000000   \n",
      "25%        1.000000      0.000000      0.000000             0.000000   \n",
      "50%        1.000000      0.000000      0.000000             0.000000   \n",
      "75%        1.000000      1.000000      0.000000             0.000000   \n",
      "max        1.000000      1.000000      1.000000             1.000000   \n",
      "\n",
      "          head_ache  age_60_and_above        gender        Abroad  \\\n",
      "count  47998.000000      47998.000000  47998.000000  47998.000000   \n",
      "mean       0.049523          0.107963      0.638068      0.381828   \n",
      "std        0.216959          0.310337      0.480564      0.485840   \n",
      "min        0.000000          0.000000      0.000000      0.000000   \n",
      "25%        0.000000          0.000000      0.000000      0.000000   \n",
      "50%        0.000000          0.000000      1.000000      0.000000   \n",
      "75%        0.000000          0.000000      1.000000      1.000000   \n",
      "max        1.000000          1.000000      1.000000      1.000000   \n",
      "\n",
      "            Contact   No_activite  corona_result  \n",
      "count  47998.000000  47998.000000   47998.000000  \n",
      "mean       0.198217      0.419955       0.304784  \n",
      "std        0.398660      0.493556       0.460320  \n",
      "min        0.000000      0.000000       0.000000  \n",
      "25%        0.000000      0.000000       0.000000  \n",
      "50%        0.000000      0.000000       0.000000  \n",
      "75%        0.000000      1.000000       1.000000  \n",
      "max        1.000000      1.000000       1.000000  \n"
     ]
    }
   ],
   "source": [
    "print(df.describe())"
   ]
  },
  {
   "cell_type": "code",
   "execution_count": 142,
   "metadata": {},
   "outputs": [
    {
     "name": "stdout",
     "output_type": "stream",
     "text": [
      "(47998, 10)\n",
      "(47998,)\n"
     ]
    }
   ],
   "source": [
    "X = df.drop('corona_result',axis=1).values\n",
    "Y = df['corona_result'].values\n",
    "\n",
    "print(X.shape)\n",
    "print(Y.shape)\n",
    "\n"
   ]
  },
  {
   "cell_type": "code",
   "execution_count": 205,
   "metadata": {},
   "outputs": [
    {
     "name": "stdout",
     "output_type": "stream",
     "text": [
      "(20, 2)\n",
      "[0 1 0 0 0 0 0 1 1 0 1 1 1 0 1 1 1 1 0 0]\n"
     ]
    }
   ],
   "source": [
    "from sklearn.datasets import make_blobs\n",
    "\n",
    "X,Y = make_blobs(n_samples=20, centers=2, n_features=2, random_state=0)\n",
    "print(X.shape)\n",
    "print(Y)"
   ]
  },
  {
   "cell_type": "code",
   "execution_count": 206,
   "metadata": {},
   "outputs": [
    {
     "data": {
      "image/png": "[encoded data removed]",
      "text/plain": [
       "<Figure size 432x288 with 1 Axes>"
      ]
     },
     "metadata": {
      "needs_background": "light"
     },
     "output_type": "display_data"
    }
   ],
   "source": [
    "plt.scatter(X[:,0],X[:,1], c=Y)\n",
    "plt.show()\n"
   ]
  },
  {
   "cell_type": "code",
   "execution_count": 207,
   "metadata": {},
   "outputs": [
    {
     "name": "stdout",
     "output_type": "stream",
     "text": [
      "(300, 3)\n",
      "[0 0 1 1 0 0 1 1 1 1 0 0 1 1 1 0 0 1 1 1 0 1 0 1 1 0 1 0 0 1 1 1 0 1 0 1 0\n",
      " 0 0 1 0 1 0 1 1 0 1 1 0 0 0 0 0 0 0 0 1 0 1 0 1 1 1 0 1 0 1 0 1 0 0 1 0 1\n",
      " 0 1 1 0 1 0 0 1 1 0 1 0 0 0 1 0 1 1 1 0 1 0 1 1 1 1 0 1 0 1 0 0 1 0 1 1 1\n",
      " 1 1 0 1 1 1 1 1 1 1 1 0 1 1 1 0 0 0 1 0 1 1 0 1 1 0 1 1 1 0 1 0 0 1 0 0 0\n",
      " 0 1 1 1 0 0 1 1 1 0 0 0 0 0 1 1 0 0 0 1 0 0 0 0 0 1 0 0 1 1 0 1 1 1 1 0 1\n",
      " 1 0 1 1 0 0 1 0 1 0 0 1 1 0 0 1 0 0 1 1 1 1 1 1 0 1 0 0 1 1 0 0 0 1 1 1 0\n",
      " 0 0 0 1 0 0 0 0 0 0 0 0 0 1 0 1 0 1 0 0 0 0 1 1 1 1 0 1 0 0 1 1 1 1 1 0 0\n",
      " 0 0 1 1 1 0 0 0 0 1 1 1 0 1 1 1 0 0 1 1 0 1 0 0 0 0 1 0 0 0 0 0 1 0 0 1 1\n",
      " 0 1 0 1]\n"
     ]
    },
    {
     "data": {
      "image/png": "[encoded data removed]",
      "text/plain": [
       "<Figure size 432x288 with 1 Axes>"
      ]
     },
     "metadata": {
      "needs_background": "light"
     },
     "output_type": "display_data"
    }
   ],
   "source": [
    "X, Y = make_blobs(n_samples=300, centers=2, n_features=3, random_state=0)\n",
    "print(X.shape)\n",
    "print(Y)\n",
    "\n",
    "plt.scatter(X[:,0],X[:,1],X[:,2], c=Y)\n",
    "plt.show()"
   ]
  },
  {
   "cell_type": "code",
   "execution_count": 208,
   "metadata": {},
   "outputs": [
    {
     "name": "stdout",
     "output_type": "stream",
     "text": [
      "done\n"
     ]
    }
   ],
   "source": [
    "X_train, X_test, Y_train, Y_test = train_test_split(X, Y,\n",
    "test_size=0.3, random_state=42)\n",
    "\n",
    "#print(\"done\")"
   ]
  },
  {
   "cell_type": "code",
   "execution_count": 147,
   "metadata": {},
   "outputs": [],
   "source": [
    "#Model Selection- Linearly Saparable so Model that can be use are : Knn model,Logistic,LinearSVC,SVM "
   ]
  },
  {
   "cell_type": "code",
   "execution_count": 160,
   "metadata": {},
   "outputs": [
    {
     "name": "stdout",
     "output_type": "stream",
     "text": [
      "1.0\n",
      "0.9888888888888889\n",
      "              precision    recall  f1-score   support\n",
      "\n",
      "           0       1.00      0.98      0.99        43\n",
      "           1       0.98      1.00      0.99        47\n",
      "\n",
      "    accuracy                           0.99        90\n",
      "   macro avg       0.99      0.99      0.99        90\n",
      "weighted avg       0.99      0.99      0.99        90\n",
      "\n"
     ]
    }
   ],
   "source": [
    "# SUPPORT VECTOR MACHINE\n",
    "\n",
    "#svm = SVC()  \n",
    "#svm.fit(X_train,Y_train);\n",
    "#print(svm.score(X_train,Y_train))\n",
    "\n",
    "#y_pred = svm.predict(X_test)\n",
    "#print(svm.score(X_test,Y_test))\n",
    "\n",
    "#print(classification_report(Y_test, y_pred))\n"
   ]
  },
  {
   "cell_type": "code",
   "execution_count": 161,
   "metadata": {},
   "outputs": [
    {
     "name": "stdout",
     "output_type": "stream",
     "text": [
      "1.0\n",
      "1.0\n",
      "              precision    recall  f1-score   support\n",
      "\n",
      "           0       1.00      1.00      1.00        43\n",
      "           1       1.00      1.00      1.00        47\n",
      "\n",
      "    accuracy                           1.00        90\n",
      "   macro avg       1.00      1.00      1.00        90\n",
      "weighted avg       1.00      1.00      1.00        90\n",
      "\n"
     ]
    }
   ],
   "source": [
    "#Linear Support Vector Classifier\n",
    "\n",
    "#lsvm = LinearSVC()\n",
    "\n",
    "#lsvm.fit(X_train, Y_train)\n",
    "#print(lsvm.score(X_train,Y_train))\n",
    "\n",
    "#y_pred = lsvm.predict(X_test)\n",
    "\n",
    "#print(lsvm.score(X_test,Y_test))\n",
    "\n",
    "#print(classification_report(Y_test, y_pred))"
   ]
  },
  {
   "cell_type": "code",
   "execution_count": 209,
   "metadata": {},
   "outputs": [
    {
     "name": "stdout",
     "output_type": "stream",
     "text": [
      "{'C': 1}\n",
      "1.0\n"
     ]
    }
   ],
   "source": [
    "# Logistic Regression -Classification\n",
    "\n",
    "param_grid = {'C': np.arange(1, 50)}\n",
    "logreg = LogisticRegression()\n",
    "lg_cv = GridSearchCV(logreg, param_grid,cv=5)\n",
    "\n",
    "# Fitting and Predicting \n",
    "lg_cv.fit(X_train, Y_train)\n",
    "\n",
    "print(lg_cv.best_params_)\n",
    "print(lg_cv.best_score_)\n",
    "\n"
   ]
  },
  {
   "cell_type": "code",
   "execution_count": 210,
   "metadata": {
    "scrolled": true
   },
   "outputs": [
    {
     "name": "stdout",
     "output_type": "stream",
     "text": [
      "1.0\n",
      "1.0\n",
      "              precision    recall  f1-score   support\n",
      "\n",
      "           0       1.00      1.00      1.00        43\n",
      "           1       1.00      1.00      1.00        47\n",
      "\n",
      "    accuracy                           1.00        90\n",
      "   macro avg       1.00      1.00      1.00        90\n",
      "weighted avg       1.00      1.00      1.00        90\n",
      "\n"
     ]
    }
   ],
   "source": [
    "# Predicting\n",
    "y_pred = lg_cv.predict(X_test)\n",
    "\n",
    "print(lg_cv.score(X_train,Y_train))\n",
    "print(lg_cv.score(X_test,Y_test))\n",
    " \n",
    "print(classification_report(Y_test, y_pred))\n"
   ]
  },
  {
   "cell_type": "code",
   "execution_count": 211,
   "metadata": {},
   "outputs": [
    {
     "data": {
      "text/plain": [
       "[<matplotlib.lines.Line2D at 0x28332b74fd0>]"
      ]
     },
     "execution_count": 211,
     "metadata": {},
     "output_type": "execute_result"
    },
    {
     "data": {
      "image/png": "[encoded data removed]",
      "text/plain": [
       "<Figure size 432x288 with 1 Axes>"
      ]
     },
     "metadata": {
      "needs_background": "light"
     },
     "output_type": "display_data"
    }
   ],
   "source": [
    "# Fitting and Predicting Probability\n",
    "\n",
    "logreg.fit(X_train,Y_train)\n",
    "y_pred_prob = logreg.predict_proba(X_test)[:,1]\n",
    "\n",
    "fpr, tpr, thresholds = roc_curve(Y_test, y_pred_prob)\n",
    "\n",
    "plt.plot([0, 1], [0, 1],'k--')\n"
   ]
  },
  {
   "cell_type": "code",
   "execution_count": 212,
   "metadata": {},
   "outputs": [
    {
     "data": {
      "image/png": "[encoded data removed]",
      "text/plain": [
       "<Figure size 432x288 with 1 Axes>"
      ]
     },
     "metadata": {
      "needs_background": "light"
     },
     "output_type": "display_data"
    }
   ],
   "source": [
    "plt.plot(fpr, tpr, label ='Logistic Regression')\n",
    "\n",
    "plt.xlabel('False Positive Rate')\n",
    "plt.ylabel('True Positive Rate')\n",
    "plt.title('Logistic Regression ROC Curve')\n",
    "\n",
    "plt.show()"
   ]
  },
  {
   "cell_type": "code",
   "execution_count": 213,
   "metadata": {},
   "outputs": [
    {
     "data": {
      "text/plain": [
       "1.0"
      ]
     },
     "execution_count": 213,
     "metadata": {},
     "output_type": "execute_result"
    }
   ],
   "source": [
    "roc_auc_score(Y_test, y_pred_prob)"
   ]
  },
  {
   "cell_type": "code",
   "execution_count": 218,
   "metadata": {},
   "outputs": [
    {
     "name": "stdout",
     "output_type": "stream",
     "text": [
      "[[-0.26904954 -2.23120361  0.29580416]]\n"
     ]
    }
   ],
   "source": [
    "# Intercept Size\n",
    "print(logreg.coef_)"
   ]
  },
  {
   "cell_type": "code",
   "execution_count": 219,
   "metadata": {},
   "outputs": [
    {
     "name": "stdout",
     "output_type": "stream",
     "text": [
      "[2.1604956]\n"
     ]
    }
   ],
   "source": [
    "# Intercept Size\n",
    "print(logreg.intercept_)"
   ]
  },
  {
   "cell_type": "code",
   "execution_count": null,
   "metadata": {},
   "outputs": [],
   "source": []
  }
 ],
 "metadata": {
  "kernelspec": {
   "display_name": "Python 3",
   "language": "python",
   "name": "python3"
  },
  "language_info": {
   "codemirror_mode": {
    "name": "ipython",
    "version": 3
   },
   "file_extension": ".py",
   "mimetype": "text/x-python",
   "name": "python",
   "nbconvert_exporter": "python",
   "pygments_lexer": "ipython3",
   "version": "3.7.3"
  }
 },
 "nbformat": 4,
 "nbformat_minor": 4
}
