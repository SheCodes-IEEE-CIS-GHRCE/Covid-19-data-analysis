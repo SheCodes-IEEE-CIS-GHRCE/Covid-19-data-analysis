{
 "cells": [
  {
   "cell_type": "code",
   "execution_count": 1,
   "metadata": {},
   "outputs": [],
   "source": [
    "import pandas as pd\n",
    "import numpy as np\n",
    "import matplotlib.pyplot as plt\n",
    "%matplotlib inline"
   ]
  },
  {
   "cell_type": "code",
   "execution_count": 2,
   "metadata": {},
   "outputs": [
    {
     "name": "stdout",
     "output_type": "stream",
     "text": [
      "   cough  fever  sore_throat  shortness_of_breath  head_ache  \\\n",
      "0      1      0            0                    0          0   \n",
      "1      1      1            0                    0          0   \n",
      "2      0      0            0                    0          0   \n",
      "3      0      0            0                    0          0   \n",
      "4      0      0            0                    0          0   \n",
      "\n",
      "   age_60_and_above  gender  Abroad  Contact  No_activite  corona_result  \n",
      "0                 0       1       1        0            0              0  \n",
      "1                 0       1       0        0            1              0  \n",
      "2                 0       1       0        0            1              1  \n",
      "3                 0       1       0        0            1              1  \n",
      "4                 0       1       0        0            1              1  \n"
     ]
    }
   ],
   "source": [
    "df = pd.read_csv(\"CleanData.csv\")\n",
    "print(df.head())"
   ]
  },
  {
   "cell_type": "code",
   "execution_count": 3,
   "metadata": {},
   "outputs": [
    {
     "name": "stdout",
     "output_type": "stream",
     "text": [
      "(47998, 11)\n",
      "<class 'pandas.core.frame.DataFrame'>\n",
      "RangeIndex: 47998 entries, 0 to 47997\n",
      "Data columns (total 11 columns):\n",
      " #   Column               Non-Null Count  Dtype\n",
      "---  ------               --------------  -----\n",
      " 0   cough                47998 non-null  int64\n",
      " 1   fever                47998 non-null  int64\n",
      " 2   sore_throat          47998 non-null  int64\n",
      " 3   shortness_of_breath  47998 non-null  int64\n",
      " 4   head_ache            47998 non-null  int64\n",
      " 5   age_60_and_above     47998 non-null  int64\n",
      " 6   gender               47998 non-null  int64\n",
      " 7   Abroad               47998 non-null  int64\n",
      " 8   Contact              47998 non-null  int64\n",
      " 9   No_activite          47998 non-null  int64\n",
      " 10  corona_result        47998 non-null  int64\n",
      "dtypes: int64(11)\n",
      "memory usage: 4.0 MB\n",
      "None\n"
     ]
    }
   ],
   "source": [
    "print(df.shape)\n",
    "print(df.info())"
   ]
  },
  {
   "cell_type": "code",
   "execution_count": 4,
   "metadata": {},
   "outputs": [
    {
     "name": "stdout",
     "output_type": "stream",
     "text": [
      "              cough         fever   sore_throat  shortness_of_breath  \\\n",
      "count  47998.000000  47998.000000  47998.000000         47998.000000   \n",
      "mean       0.750740      0.386204      0.039397             0.032189   \n",
      "std        0.432589      0.486883      0.194541             0.176503   \n",
      "min        0.000000      0.000000      0.000000             0.000000   \n",
      "25%        1.000000      0.000000      0.000000             0.000000   \n",
      "50%        1.000000      0.000000      0.000000             0.000000   \n",
      "75%        1.000000      1.000000      0.000000             0.000000   \n",
      "max        1.000000      1.000000      1.000000             1.000000   \n",
      "\n",
      "          head_ache  age_60_and_above        gender        Abroad  \\\n",
      "count  47998.000000      47998.000000  47998.000000  47998.000000   \n",
      "mean       0.049523          0.107963      0.638068      0.381828   \n",
      "std        0.216959          0.310337      0.480564      0.485840   \n",
      "min        0.000000          0.000000      0.000000      0.000000   \n",
      "25%        0.000000          0.000000      0.000000      0.000000   \n",
      "50%        0.000000          0.000000      1.000000      0.000000   \n",
      "75%        0.000000          0.000000      1.000000      1.000000   \n",
      "max        1.000000          1.000000      1.000000      1.000000   \n",
      "\n",
      "            Contact   No_activite  corona_result  \n",
      "count  47998.000000  47998.000000   47998.000000  \n",
      "mean       0.198217      0.419955       0.304784  \n",
      "std        0.398660      0.493556       0.460320  \n",
      "min        0.000000      0.000000       0.000000  \n",
      "25%        0.000000      0.000000       0.000000  \n",
      "50%        0.000000      0.000000       0.000000  \n",
      "75%        0.000000      1.000000       1.000000  \n",
      "max        1.000000      1.000000       1.000000  \n"
     ]
    }
   ],
   "source": [
    "print(df.describe())"
   ]
  }
 ],
 "metadata": {
  "kernelspec": {
   "display_name": "Python 3",
   "language": "python",
   "name": "python3"
  },
  "language_info": {
   "codemirror_mode": {
    "name": "ipython",
    "version": 3
   },
   "file_extension": ".py",
   "mimetype": "text/x-python",
   "name": "python",
   "nbconvert_exporter": "python",
   "pygments_lexer": "ipython3",
   "version": "3.7.3"
  }
 },
 "nbformat": 4,
 "nbformat_minor": 4
}
