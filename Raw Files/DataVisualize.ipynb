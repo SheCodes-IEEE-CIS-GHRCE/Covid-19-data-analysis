{
 "cells": [
  {
   "cell_type": "code",
   "execution_count": 1,
   "metadata": {},
   "outputs": [],
   "source": [
    "import pandas as pd\n",
    "import numpy as np\n",
    "import matplotlib.pyplot as plt\n",
    "%matplotlib inline\n"
   ]
  },
  {
   "cell_type": "code",
   "execution_count": 2,
   "metadata": {},
   "outputs": [
    {
     "name": "stdout",
     "output_type": "stream",
     "text": [
      "   cough  fever  sore_throat  shortness_of_breath  head_ache  \\\n",
      "0      1      0            0                    0          0   \n",
      "1      1      1            0                    0          0   \n",
      "2      0      0            0                    0          0   \n",
      "3      0      0            0                    0          0   \n",
      "4      0      0            0                    0          0   \n",
      "\n",
      "   age_60_and_above  gender  Abroad  Contact  No_activite  corona_result  \n",
      "0                 0       1       1        0            0              0  \n",
      "1                 0       1       0        0            1              0  \n",
      "2                 0       1       0        0            1              1  \n",
      "3                 0       1       0        0            1              1  \n",
      "4                 0       1       0        0            1              1  \n"
     ]
    }
   ],
   "source": [
    "df = pd.read_csv(\"CleanData.csv\")\n",
    "print(df.head())\n"
   ]
  },
  {
   "cell_type": "code",
   "execution_count": 3,
   "metadata": {},
   "outputs": [
    {
     "name": "stdout",
     "output_type": "stream",
     "text": [
      "(47998, 11)\n",
      "<class 'pandas.core.frame.DataFrame'>\n",
      "RangeIndex: 47998 entries, 0 to 47997\n",
      "Data columns (total 11 columns):\n",
      " #   Column               Non-Null Count  Dtype\n",
      "---  ------               --------------  -----\n",
      " 0   cough                47998 non-null  int64\n",
      " 1   fever                47998 non-null  int64\n",
      " 2   sore_throat          47998 non-null  int64\n",
      " 3   shortness_of_breath  47998 non-null  int64\n",
      " 4   head_ache            47998 non-null  int64\n",
      " 5   age_60_and_above     47998 non-null  int64\n",
      " 6   gender               47998 non-null  int64\n",
      " 7   Abroad               47998 non-null  int64\n",
      " 8   Contact              47998 non-null  int64\n",
      " 9   No_activite          47998 non-null  int64\n",
      " 10  corona_result        47998 non-null  int64\n",
      "dtypes: int64(11)\n",
      "memory usage: 4.0 MB\n",
      "None\n"
     ]
    }
   ],
   "source": [
    "print(df.shape)\n",
    "print(df.info())"
   ]
  },
  {
   "cell_type": "code",
   "execution_count": 4,
   "metadata": {},
   "outputs": [
    {
     "name": "stdout",
     "output_type": "stream",
     "text": [
      "(47998, 10)\n",
      "(47998,)\n"
     ]
    }
   ],
   "source": [
    "X = df.drop('corona_result',axis=1).values\n",
    "Y = df['corona_result'].values\n",
    "\n",
    "print(X.shape)\n",
    "print(Y.shape)\n"
   ]
  },
  {
   "cell_type": "code",
   "execution_count": 6,
   "metadata": {},
   "outputs": [
    {
     "name": "stdout",
     "output_type": "stream",
     "text": [
      "[[1 0 0 ... 1 0 0]\n",
      " [1 1 0 ... 0 0 1]\n",
      " [0 0 0 ... 0 0 1]\n",
      " ...\n",
      " [0 0 0 ... 1 0 0]\n",
      " [0 0 0 ... 1 0 0]\n",
      " [0 0 0 ... 1 0 0]]\n",
      "[0 0 1 ... 1 1 1]\n"
     ]
    }
   ],
   "source": [
    "print(X)\n",
    "print(Y)"
   ]
  },
  {
   "cell_type": "code",
   "execution_count": 7,
   "metadata": {},
   "outputs": [
    {
     "name": "stdout",
     "output_type": "stream",
     "text": [
      "(20, 2)\n",
      "[0 1 0 0 0 0 0 1 1 0 1 1 1 0 1 1 1 1 0 0]\n"
     ]
    }
   ],
   "source": [
    "from sklearn.datasets import make_blobs\n",
    "\n",
    "X,Y = make_blobs(n_samples=20, centers=2, n_features=2, random_state=0)\n",
    "print(X.shape)\n",
    "print(Y)"
   ]
  },
  {
   "cell_type": "code",
   "execution_count": 8,
   "metadata": {},
   "outputs": [
    {
     "data": {
      "image/png": "[encoded data removed]",
      "text/plain": [
       "<Figure size 432x288 with 1 Axes>"
      ]
     },
     "metadata": {
      "needs_background": "light"
     },
     "output_type": "display_data"
    }
   ],
   "source": [
    "plt.scatter(X[:,0],[:,1], c=y)\n",
    "plt.show()"
   ]
  },
  {
   "cell_type": "code",
   "execution_count": 9,
   "metadata": {},
   "outputs": [
    {
     "name": "stdout",
     "output_type": "stream",
     "text": [
      "(300, 3)\n",
      "[0 0 1 1 0 0 1 1 1 1 0 0 1 1 1 0 0 1 1 1 0 1 0 1 1 0 1 0 0 1 1 1 0 1 0 1 0\n",
      " 0 0 1 0 1 0 1 1 0 1 1 0 0 0 0 0 0 0 0 1 0 1 0 1 1 1 0 1 0 1 0 1 0 0 1 0 1\n",
      " 0 1 1 0 1 0 0 1 1 0 1 0 0 0 1 0 1 1 1 0 1 0 1 1 1 1 0 1 0 1 0 0 1 0 1 1 1\n",
      " 1 1 0 1 1 1 1 1 1 1 1 0 1 1 1 0 0 0 1 0 1 1 0 1 1 0 1 1 1 0 1 0 0 1 0 0 0\n",
      " 0 1 1 1 0 0 1 1 1 0 0 0 0 0 1 1 0 0 0 1 0 0 0 0 0 1 0 0 1 1 0 1 1 1 1 0 1\n",
      " 1 0 1 1 0 0 1 0 1 0 0 1 1 0 0 1 0 0 1 1 1 1 1 1 0 1 0 0 1 1 0 0 0 1 1 1 0\n",
      " 0 0 0 1 0 0 0 0 0 0 0 0 0 1 0 1 0 1 0 0 0 0 1 1 1 1 0 1 0 0 1 1 1 1 1 0 0\n",
      " 0 0 1 1 1 0 0 0 0 1 1 1 0 1 1 1 0 0 1 1 0 1 0 0 0 0 1 0 0 0 0 0 1 0 0 1 1\n",
      " 0 1 0 1]\n"
     ]
    },
    {
     "name": "stderr",
     "output_type": "stream",
     "text": [
      "c:\\users\\dell\\appdata\\local\\programs\\python\\python37\\lib\\site-packages\\matplotlib\\collections.py:922: RuntimeWarning: invalid value encountered in sqrt\n",
      "  scale = np.sqrt(self._sizes) * dpi / 72.0 * self._factor\n"
     ]
    },
    {
     "data": {
      "image/png": "[encoded data removed]",
      "text/plain": [
       "<Figure size 432x288 with 1 Axes>"
      ]
     },
     "metadata": {
      "needs_background": "light"
     },
     "output_type": "display_data"
    }
   ],
   "source": [
    "x, y = make_blobs(n_samples=300, centers=2, n_features=3, random_state=0)\n",
    "print(x.shape)\n",
    "print(y)\n",
    "\n",
    "plt.scatter(x[:,0],x[:,1],x[:,2], c=y)\n",
    "plt.show()"
   ]
  },
  {
   "cell_type": "code",
   "execution_count": null,
   "metadata": {},
   "outputs": [],
   "source": []
  }
 ],
 "metadata": {
  "kernelspec": {
   "display_name": "Python 3",
   "language": "python",
   "name": "python3"
  },
  "language_info": {
   "codemirror_mode": {
    "name": "ipython",
    "version": 3
   },
   "file_extension": ".py",
   "mimetype": "text/x-python",
   "name": "python",
   "nbconvert_exporter": "python",
   "pygments_lexer": "ipython3",
   "version": "3.7.3"
  }
 },
 "nbformat": 4,
 "nbformat_minor": 4
}
