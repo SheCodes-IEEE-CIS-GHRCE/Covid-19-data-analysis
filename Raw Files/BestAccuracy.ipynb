{
 "cells": [
  {
   "cell_type": "code",
   "execution_count": 1,
   "metadata": {},
   "outputs": [],
   "source": [
    "import pandas as pd\n",
    "import numpy as np\n",
    "import matplotlib.pyplot as plt\n",
    "%matplotlib inline\n",
    "\n",
    "from sklearn.linear_model import LogisticRegression\n",
    "from sklearn.multiclass import OneVsRestClassifier\n",
    "from sklearn.model_selection import train_test_split\n",
    "from sklearn.model_selection import GridSearchCV \n",
    "from sklearn.model_selection import cross_val_score\n",
    "from sklearn.model_selection import cross_val_score\n",
    "from sklearn.neighbors import KNeighborsClassifier\n",
    "\n",
    "from sklearn.svm import LinearSVC\n",
    "from sklearn.svm import SVC\n",
    "\n",
    "from sklearn.metrics import classification_report\n",
    "from sklearn.metrics import confusion_matrix\n",
    "\n",
    "from sklearn.metrics import roc_curve\n",
    "from sklearn.metrics import roc_auc_score"
   ]
  },
  {
   "cell_type": "code",
   "execution_count": 2,
   "metadata": {},
   "outputs": [
    {
     "name": "stdout",
     "output_type": "stream",
     "text": [
      "   cough  fever  sore_throat  shortness_of_breath  head_ache  \\\n",
      "0      1      0            0                    0          0   \n",
      "1      1      1            0                    0          0   \n",
      "2      0      0            0                    0          0   \n",
      "3      0      0            0                    0          0   \n",
      "4      0      0            0                    0          0   \n",
      "\n",
      "   age_60_and_above  gender  Abroad  Contact  No_activite  corona_result  \n",
      "0                 0       1       1        0            0              0  \n",
      "1                 0       1       0        0            1              0  \n",
      "2                 0       1       0        0            1              1  \n",
      "3                 0       1       0        0            1              1  \n",
      "4                 0       1       0        0            1              1  \n"
     ]
    }
   ],
   "source": [
    "df = pd.read_csv(\"CleanData.csv\")\n",
    "print(df.head())\n"
   ]
  },
  {
   "cell_type": "code",
   "execution_count": 3,
   "metadata": {},
   "outputs": [
    {
     "name": "stdout",
     "output_type": "stream",
     "text": [
      "(47998, 11)\n",
      "<class 'pandas.core.frame.DataFrame'>\n",
      "RangeIndex: 47998 entries, 0 to 47997\n",
      "Data columns (total 11 columns):\n",
      " #   Column               Non-Null Count  Dtype\n",
      "---  ------               --------------  -----\n",
      " 0   cough                47998 non-null  int64\n",
      " 1   fever                47998 non-null  int64\n",
      " 2   sore_throat          47998 non-null  int64\n",
      " 3   shortness_of_breath  47998 non-null  int64\n",
      " 4   head_ache            47998 non-null  int64\n",
      " 5   age_60_and_above     47998 non-null  int64\n",
      " 6   gender               47998 non-null  int64\n",
      " 7   Abroad               47998 non-null  int64\n",
      " 8   Contact              47998 non-null  int64\n",
      " 9   No_activite          47998 non-null  int64\n",
      " 10  corona_result        47998 non-null  int64\n",
      "dtypes: int64(11)\n",
      "memory usage: 4.0 MB\n",
      "None\n"
     ]
    }
   ],
   "source": [
    "print(df.shape)\n",
    "print(df.info())"
   ]
  },
  {
   "cell_type": "code",
   "execution_count": 4,
   "metadata": {
    "scrolled": true
   },
   "outputs": [
    {
     "name": "stdout",
     "output_type": "stream",
     "text": [
      "              cough         fever   sore_throat  shortness_of_breath  \\\n",
      "count  47998.000000  47998.000000  47998.000000         47998.000000   \n",
      "mean       0.750740      0.386204      0.039397             0.032189   \n",
      "std        0.432589      0.486883      0.194541             0.176503   \n",
      "min        0.000000      0.000000      0.000000             0.000000   \n",
      "25%        1.000000      0.000000      0.000000             0.000000   \n",
      "50%        1.000000      0.000000      0.000000             0.000000   \n",
      "75%        1.000000      1.000000      0.000000             0.000000   \n",
      "max        1.000000      1.000000      1.000000             1.000000   \n",
      "\n",
      "          head_ache  age_60_and_above        gender        Abroad  \\\n",
      "count  47998.000000      47998.000000  47998.000000  47998.000000   \n",
      "mean       0.049523          0.107963      0.638068      0.381828   \n",
      "std        0.216959          0.310337      0.480564      0.485840   \n",
      "min        0.000000          0.000000      0.000000      0.000000   \n",
      "25%        0.000000          0.000000      0.000000      0.000000   \n",
      "50%        0.000000          0.000000      1.000000      0.000000   \n",
      "75%        0.000000          0.000000      1.000000      1.000000   \n",
      "max        1.000000          1.000000      1.000000      1.000000   \n",
      "\n",
      "            Contact   No_activite  corona_result  \n",
      "count  47998.000000  47998.000000   47998.000000  \n",
      "mean       0.198217      0.419955       0.304784  \n",
      "std        0.398660      0.493556       0.460320  \n",
      "min        0.000000      0.000000       0.000000  \n",
      "25%        0.000000      0.000000       0.000000  \n",
      "50%        0.000000      0.000000       0.000000  \n",
      "75%        0.000000      1.000000       1.000000  \n",
      "max        1.000000      1.000000       1.000000  \n"
     ]
    }
   ],
   "source": [
    "print(df.describe())"
   ]
  },
  {
   "cell_type": "code",
   "execution_count": 5,
   "metadata": {},
   "outputs": [
    {
     "name": "stdout",
     "output_type": "stream",
     "text": [
      "(47998, 7)\n",
      "(47998,)\n"
     ]
    }
   ],
   "source": [
    "df=df.drop('Abroad',axis=1)\n",
    "df=df.drop('Contact',axis=1)\n",
    "df=df.drop('No_activite',axis=1)\n",
    "\n",
    "X=df.drop('corona_result',axis=1).values\n",
    "Y = df['corona_result'].values\n",
    "\n",
    "print(X.shape)\n",
    "print(Y.shape)\n",
    "\n"
   ]
  },
  {
   "cell_type": "code",
   "execution_count": 6,
   "metadata": {},
   "outputs": [],
   "source": [
    "#from sklearn.datasets import make_blobs\n",
    "\n",
    "#x,y = make_blobs(n_samples=200, centers=2, n_features=3, random_state=0)\n",
    "#print(x.shape)\n",
    "#print(y)"
   ]
  },
  {
   "cell_type": "code",
   "execution_count": 36,
   "metadata": {},
   "outputs": [
    {
     "data": {
      "image/png": "[encoded data removed]",
      "text/plain": [
       "<Figure size 432x288 with 1 Axes>"
      ]
     },
     "metadata": {
      "needs_background": "light"
     },
     "output_type": "display_data"
    }
   ],
   "source": [
    "#plt.scatter(x[:,0],x[:,1],x[:,2], c=y)\n",
    "#plt.show()\n"
   ]
  },
  {
   "cell_type": "code",
   "execution_count": 30,
   "metadata": {},
   "outputs": [],
   "source": [
    "#x, y = make_blobs(n_samples=300, centers=2, n_features=3, random_state=0)\n",
    "#print(x.shape)\n",
    "#print(y)\n",
    "\n",
    "#plt.scatter(x[:,0],x[:,1],x[:,2], c=y)\n",
    "#plt.show()"
   ]
  },
  {
   "cell_type": "code",
   "execution_count": 7,
   "metadata": {},
   "outputs": [
    {
     "name": "stdout",
     "output_type": "stream",
     "text": [
      "(47998, 7) (47998,)\n"
     ]
    }
   ],
   "source": [
    "print(X.shape,Y.shape)\n",
    "X_train, X_test, Y_train, Y_test = train_test_split(X, Y,\n",
    "test_size=0.3, random_state=42)\n",
    "\n",
    "#print(\"done\")"
   ]
  },
  {
   "cell_type": "code",
   "execution_count": 11,
   "metadata": {},
   "outputs": [],
   "source": [
    "#Model Selection- Linearly Saparable so Model that can be use are : Knn model,Logistic,LinearSVC,SVM "
   ]
  },
  {
   "cell_type": "code",
   "execution_count": 8,
   "metadata": {},
   "outputs": [
    {
     "name": "stdout",
     "output_type": "stream",
     "text": [
      "0.8727305196737901\n",
      "0.8703472222222223\n",
      "              precision    recall  f1-score   support\n",
      "\n",
      "           0       0.86      0.97      0.91     10038\n",
      "           1       0.90      0.64      0.75      4362\n",
      "\n",
      "    accuracy                           0.87     14400\n",
      "   macro avg       0.88      0.81      0.83     14400\n",
      "weighted avg       0.87      0.87      0.86     14400\n",
      "\n"
     ]
    }
   ],
   "source": [
    "# SUPPORT VECTOR MACHINE\n",
    "\n",
    "svm = SVC()  \n",
    "svm.fit(X_train,Y_train);\n",
    "print(svm.score(X_train,Y_train))\n",
    "\n",
    "y_pred = svm.predict(X_test)\n",
    "print(svm.score(X_test,Y_test))\n",
    "\n",
    "print(classification_report(Y_test, y_pred))\n"
   ]
  },
  {
   "cell_type": "code",
   "execution_count": null,
   "metadata": {},
   "outputs": [],
   "source": [
    "\n",
    "param_grid = {'n_neighbors': np.arange(1,10)}\n",
    "\n",
    "knn = KNeighborsClassifier()\n",
    "knn_cv = GridSearchCV(knn, param_grid,cv=5)\n",
    "\n",
    "#Fitting and Predicting \n",
    "knn_cv.fit(X_train, Y_train)\n",
    "\n",
    "print(knn_cv.best_params_)\n",
    "knn_cv.best_score_\n",
    "\n",
    "y_pred= knn_cv.predict(X_test)\n",
    "\n",
    "print(knn.score(X_test,Y_test))\n",
    "\n",
    "print(classification_report(Y_test, y_pred))"
   ]
  },
  {
   "cell_type": "code",
   "execution_count": 57,
   "metadata": {},
   "outputs": [
    {
     "name": "stdout",
     "output_type": "stream",
     "text": [
      "0.820792904339544\n",
      "0.8218055555555556\n",
      "              precision    recall  f1-score   support\n",
      "\n",
      "           0       0.86      0.89      0.87     10038\n",
      "           1       0.72      0.67      0.70      4362\n",
      "\n",
      "    accuracy                           0.82     14400\n",
      "   macro avg       0.79      0.78      0.78     14400\n",
      "weighted avg       0.82      0.82      0.82     14400\n",
      "\n"
     ]
    }
   ],
   "source": [
    "#Linear Support Vector Classifier\n",
    "\n",
    "lsvm = LinearSVC()\n",
    "\n",
    "lsvm.fit(X_train, Y_train)\n",
    "print(lsvm.score(X_train,Y_train))\n",
    "\n",
    "y_pred = lsvm.predict(X_test)\n",
    "\n",
    "print(lsvm.score(X_test,Y_test))\n",
    "\n",
    "print(classification_report(Y_test, y_pred))"
   ]
  },
  {
   "cell_type": "code",
   "execution_count": 54,
   "metadata": {},
   "outputs": [
    {
     "name": "stdout",
     "output_type": "stream",
     "text": [
      "{'C': 1}\n",
      "0.8234718796731373\n"
     ]
    }
   ],
   "source": [
    "# Logistic Regression -Classification\n",
    "\n",
    "param_grid = {'C': np.arange(1, 50)}\n",
    "logreg = LogisticRegression()\n",
    "lg_cv = GridSearchCV(logreg, param_grid,cv=5)\n",
    "\n",
    "# Fitting and Predicting \n",
    "lg_cv.fit(X_train, Y_train)\n",
    "\n",
    "print(lg_cv.best_params_)\n",
    "print(lg_cv.best_score_)\n",
    "\n"
   ]
  },
  {
   "cell_type": "code",
   "execution_count": 55,
   "metadata": {
    "scrolled": true
   },
   "outputs": [
    {
     "name": "stdout",
     "output_type": "stream",
     "text": [
      "[0 0 1 ... 0 0 0]\n",
      "0.8238287993332937\n",
      "0.8239583333333333\n",
      "              precision    recall  f1-score   support\n",
      "\n",
      "           0       0.87      0.88      0.87     10038\n",
      "           1       0.72      0.69      0.70      4362\n",
      "\n",
      "    accuracy                           0.82     14400\n",
      "   macro avg       0.79      0.79      0.79     14400\n",
      "weighted avg       0.82      0.82      0.82     14400\n",
      "\n"
     ]
    }
   ],
   "source": [
    "# Predicting\n",
    "y_pred = lg_cv.predict(X_test)\n",
    "\n",
    "print(y_pred)\n",
    "print(lg_cv.score(X_train,Y_train))\n",
    "print(lg_cv.score(X_test,Y_test))\n",
    " \n",
    "print(classification_report(Y_test, y_pred))\n"
   ]
  },
  {
   "cell_type": "code",
   "execution_count": 17,
   "metadata": {},
   "outputs": [
    {
     "name": "stdout",
     "output_type": "stream",
     "text": [
      "[9.99916610e-01 1.98929399e-03 1.30577762e-02 9.99545598e-01\n",
      " 1.79565995e-03 2.53959679e-05 9.94398005e-01 9.68191153e-01\n",
      " 2.86402633e-03 6.99269161e-05 9.85742478e-01 5.62257643e-04\n",
      " 9.99987452e-01 2.28694530e-03 9.97075730e-01 6.33755705e-03\n",
      " 2.02986997e-04 3.91880180e-01 1.15552431e-02 3.12672298e-05\n",
      " 9.99061668e-01 1.96047783e-04 9.99949666e-01 1.08344849e-03\n",
      " 1.92103985e-03 5.45549559e-03 4.04515481e-05 9.99279850e-01\n",
      " 1.82627782e-03 3.57643041e-03 9.99952659e-01 8.70751146e-04\n",
      " 9.71125526e-01 9.99719437e-01 1.25811985e-04 9.99886091e-01\n",
      " 9.98773882e-01 6.67188092e-01 9.98091391e-01 9.99876208e-01\n",
      " 9.97298258e-03 9.99985198e-01 5.91836716e-03 9.99858363e-01\n",
      " 9.26182531e-05 4.28778412e-04 8.21235282e-04 1.88216133e-02\n",
      " 9.66662323e-01 1.97591737e-04 9.99932562e-01 9.88542099e-01\n",
      " 9.84976608e-01 9.99461443e-01 9.99951286e-01 9.99401428e-01\n",
      " 9.99810786e-01 9.78131878e-01 2.76000405e-03 1.80209230e-04\n",
      " 3.26982895e-04 1.83295634e-05 9.99961326e-01 9.99832835e-01\n",
      " 9.94279342e-01 9.99993595e-01 2.28327802e-04 9.98718150e-01\n",
      " 9.97548753e-01 2.32230721e-04 9.97168754e-01 2.10496383e-03\n",
      " 2.10176354e-05 9.99719958e-01 9.90537214e-01 1.57356627e-03\n",
      " 9.82505618e-01 9.94720863e-01 9.80015316e-01 4.82149375e-03\n",
      " 9.91400315e-01 9.99432518e-01 9.99956546e-01 9.98817819e-01\n",
      " 1.06670059e-03 9.94471301e-01 9.60625965e-01 6.14321906e-04\n",
      " 1.21788920e-04 1.05719575e-03]\n"
     ]
    },
    {
     "data": {
      "text/plain": [
       "[<matplotlib.lines.Line2D at 0x134d793a3c8>]"
      ]
     },
     "execution_count": 17,
     "metadata": {},
     "output_type": "execute_result"
    },
    {
     "data": {
      "image/png": "[encoded data removed]",
      "text/plain": [
       "<Figure size 432x288 with 1 Axes>"
      ]
     },
     "metadata": {
      "needs_background": "light"
     },
     "output_type": "display_data"
    }
   ],
   "source": [
    "# Fitting and Predicting Probability\n",
    "\n",
    "logreg.fit(X_train,Y_train)\n",
    "y_pred_prob = logreg.predict_proba(X_test)[:,1]\n",
    "\n",
    "print(y_pred_prob)\n",
    "fpr, tpr, thresholds = roc_curve(Y_test, y_pred_prob)\n",
    "\n",
    "plt.plot([0, 1], [0, 1],'k--')\n"
   ]
  },
  {
   "cell_type": "code",
   "execution_count": 56,
   "metadata": {},
   "outputs": [
    {
     "data": {
      "image/png": "[encoded data removed]",
      "text/plain": [
       "<Figure size 432x288 with 1 Axes>"
      ]
     },
     "metadata": {
      "needs_background": "light"
     },
     "output_type": "display_data"
    }
   ],
   "source": [
    "plt.plot(fpr, tpr, label ='Logistic Regression')\n",
    "\n",
    "plt.xlabel('False Positive Rate')\n",
    "plt.ylabel('True Positive Rate')\n",
    "plt.title('Logistic Regression ROC Curve')\n",
    "\n",
    "plt.show()"
   ]
  },
  {
   "cell_type": "code",
   "execution_count": null,
   "metadata": {},
   "outputs": [],
   "source": [
    " "
   ]
  },
  {
   "cell_type": "code",
   "execution_count": null,
   "metadata": {},
   "outputs": [],
   "source": [
    "# Intercept Size\n",
    "print(svm.coef_)"
   ]
  },
  {
   "cell_type": "code",
   "execution_count": null,
   "metadata": {},
   "outputs": [],
   "source": [
    "# Intercept Size\n",
    "print(svm.intercept_)"
   ]
  },
  {
   "cell_type": "code",
   "execution_count": null,
   "metadata": {},
   "outputs": [],
   "source": []
  }
 ],
 "metadata": {
  "kernelspec": {
   "display_name": "Python 3",
   "language": "python",
   "name": "python3"
  },
  "language_info": {
   "codemirror_mode": {
    "name": "ipython",
    "version": 3
   },
   "file_extension": ".py",
   "mimetype": "text/x-python",
   "name": "python",
   "nbconvert_exporter": "python",
   "pygments_lexer": "ipython3",
   "version": "3.7.3"
  }
 },
 "nbformat": 4,
 "nbformat_minor": 4
}
