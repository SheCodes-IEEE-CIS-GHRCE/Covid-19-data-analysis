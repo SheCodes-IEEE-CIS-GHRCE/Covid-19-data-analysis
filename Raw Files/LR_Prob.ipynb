{
 "cells": [
  {
   "cell_type": "code",
   "execution_count": 1,
   "metadata": {},
   "outputs": [],
   "source": [
    "import pandas as pd\n",
    "import numpy as np\n",
    "import matplotlib.pyplot as plt\n",
    "%matplotlib inline\n"
   ]
  },
  {
   "cell_type": "code",
   "execution_count": 2,
   "metadata": {},
   "outputs": [
    {
     "name": "stdout",
     "output_type": "stream",
     "text": [
      "   cough  fever  sore_throat  shortness_of_breath  head_ache  \\\n",
      "0      1      0            0                    0          0   \n",
      "1      1      1            0                    0          0   \n",
      "2      0      0            0                    0          0   \n",
      "3      0      0            0                    0          0   \n",
      "4      0      0            0                    0          0   \n",
      "\n",
      "   age_60_and_above  gender  Abroad  Contact  No_activite  corona_result  \n",
      "0                 0       1       1        0            0              0  \n",
      "1                 0       1       0        0            1              0  \n",
      "2                 0       1       0        0            1              1  \n",
      "3                 0       1       0        0            1              1  \n",
      "4                 0       1       0        0            1              1  \n"
     ]
    }
   ],
   "source": [
    "df = pd.read_csv(\"CleanData.csv\")\n",
    "print(df.head())\n"
   ]
  },
  {
   "cell_type": "code",
   "execution_count": 3,
   "metadata": {},
   "outputs": [
    {
     "name": "stdout",
     "output_type": "stream",
     "text": [
      "(47998, 11)\n",
      "<class 'pandas.core.frame.DataFrame'>\n",
      "RangeIndex: 47998 entries, 0 to 47997\n",
      "Data columns (total 11 columns):\n",
      " #   Column               Non-Null Count  Dtype\n",
      "---  ------               --------------  -----\n",
      " 0   cough                47998 non-null  int64\n",
      " 1   fever                47998 non-null  int64\n",
      " 2   sore_throat          47998 non-null  int64\n",
      " 3   shortness_of_breath  47998 non-null  int64\n",
      " 4   head_ache            47998 non-null  int64\n",
      " 5   age_60_and_above     47998 non-null  int64\n",
      " 6   gender               47998 non-null  int64\n",
      " 7   Abroad               47998 non-null  int64\n",
      " 8   Contact              47998 non-null  int64\n",
      " 9   No_activite          47998 non-null  int64\n",
      " 10  corona_result        47998 non-null  int64\n",
      "dtypes: int64(11)\n",
      "memory usage: 4.0 MB\n",
      "None\n"
     ]
    }
   ],
   "source": [
    "print(df.shape)\n",
    "print(df.info())"
   ]
  },
  {
   "cell_type": "code",
   "execution_count": 4,
   "metadata": {},
   "outputs": [
    {
     "name": "stdout",
     "output_type": "stream",
     "text": [
      "(47998, 10)\n",
      "(47998,)\n"
     ]
    }
   ],
   "source": [
    "X = df.drop('corona_result',axis=1).values\n",
    "Y = df['corona_result'].values\n",
    "\n",
    "print(X.shape)\n",
    "print(Y.shape)\n"
   ]
  },
  {
   "cell_type": "code",
   "execution_count": 6,
   "metadata": {},
   "outputs": [
    {
     "name": "stdout",
     "output_type": "stream",
     "text": [
      "[[1 0 0 ... 1 0 0]\n",
      " [1 1 0 ... 0 0 1]\n",
      " [0 0 0 ... 0 0 1]\n",
      " ...\n",
      " [0 0 0 ... 1 0 0]\n",
      " [0 0 0 ... 1 0 0]\n",
      " [0 0 0 ... 1 0 0]]\n",
      "[0 0 1 ... 1 1 1]\n"
     ]
    }
   ],
   "source": [
    "print(X)\n",
    "print(Y)"
   ]
  },
  {
   "cell_type": "code",
   "execution_count": 10,
   "metadata": {},
   "outputs": [
    {
     "name": "stdout",
     "output_type": "stream",
     "text": [
      "(20, 2)\n",
      "[0 1 0 0 0 0 0 1 1 0 1 1 1 0 1 1 1 1 0 0]\n"
     ]
    }
   ],
   "source": [
    "from sklearn.datasets import make_blobs\n",
    "\n",
    "X,Y = make_blobs(n_samples=20, centers=2, n_features=2, random_state=0)\n",
    "print(X.shape)\n",
    "print(Y)"
   ]
  },
  {
   "cell_type": "code",
   "execution_count": 11,
   "metadata": {},
   "outputs": [
    {
     "data": {
      "image/png": "[encoded data removed]",
      "text/plain": [
       "<Figure size 432x288 with 1 Axes>"
      ]
     },
     "metadata": {
      "needs_background": "light"
     },
     "output_type": "display_data"
    }
   ],
   "source": [
    "plt.scatter(X[:,0],X[:,1], c=Y)\n",
    "plt.show()"
   ]
  },
  {
   "cell_type": "code",
   "execution_count": 12,
   "metadata": {},
   "outputs": [
    {
     "name": "stdout",
     "output_type": "stream",
     "text": [
      "(300, 3)\n",
      "[0 0 1 1 0 0 1 1 1 1 0 0 1 1 1 0 0 1 1 1 0 1 0 1 1 0 1 0 0 1 1 1 0 1 0 1 0\n",
      " 0 0 1 0 1 0 1 1 0 1 1 0 0 0 0 0 0 0 0 1 0 1 0 1 1 1 0 1 0 1 0 1 0 0 1 0 1\n",
      " 0 1 1 0 1 0 0 1 1 0 1 0 0 0 1 0 1 1 1 0 1 0 1 1 1 1 0 1 0 1 0 0 1 0 1 1 1\n",
      " 1 1 0 1 1 1 1 1 1 1 1 0 1 1 1 0 0 0 1 0 1 1 0 1 1 0 1 1 1 0 1 0 0 1 0 0 0\n",
      " 0 1 1 1 0 0 1 1 1 0 0 0 0 0 1 1 0 0 0 1 0 0 0 0 0 1 0 0 1 1 0 1 1 1 1 0 1\n",
      " 1 0 1 1 0 0 1 0 1 0 0 1 1 0 0 1 0 0 1 1 1 1 1 1 0 1 0 0 1 1 0 0 0 1 1 1 0\n",
      " 0 0 0 1 0 0 0 0 0 0 0 0 0 1 0 1 0 1 0 0 0 0 1 1 1 1 0 1 0 0 1 1 1 1 1 0 0\n",
      " 0 0 1 1 1 0 0 0 0 1 1 1 0 1 1 1 0 0 1 1 0 1 0 0 0 0 1 0 0 0 0 0 1 0 0 1 1\n",
      " 0 1 0 1]\n"
     ]
    },
    {
     "data": {
      "image/png": "[encoded data removed]",
      "text/plain": [
       "<Figure size 432x288 with 1 Axes>"
      ]
     },
     "metadata": {
      "needs_background": "light"
     },
     "output_type": "display_data"
    }
   ],
   "source": [
    "X,Y = make_blobs(n_samples=300, centers=2, n_features=3, random_state=0)\n",
    "print(X.shape)\n",
    "print(Y)\n",
    "\n",
    "plt.scatter(X[:,0],X[:,1],X[:,2], c=Y)\n",
    "plt.show()"
   ]
  },
  {
   "cell_type": "code",
   "execution_count": 14,
   "metadata": {},
   "outputs": [
    {
     "name": "stdout",
     "output_type": "stream",
     "text": [
      "done\n"
     ]
    }
   ],
   "source": [
    "from sklearn.model_selection import train_test_split\n",
    "\n",
    "X_train, X_test, Y_train, Y_test = train_test_split(X, Y,\n",
    "test_size=0.3, random_state=42)\n",
    "\n",
    "print(\"done\")"
   ]
  },
  {
   "cell_type": "code",
   "execution_count": 16,
   "metadata": {},
   "outputs": [
    {
     "name": "stdout",
     "output_type": "stream",
     "text": [
      "Training set of X [[ 1.67101922e+00  3.57818995e+00  6.71903566e-01]\n",
      " [-1.04803942e+00 -2.43968751e+00  3.13739182e+00]\n",
      " [ 1.52448414e-02 -3.98309949e-01  3.41388321e+00]\n",
      " [-4.90154249e-01  4.82485220e+00  1.47947955e+00]\n",
      " [ 6.22276167e-01  2.92883603e+00  1.41164912e+00]\n",
      " [ 6.78479199e-01  3.99477436e+00  3.79263715e-01]\n",
      " [ 2.41099174e+00 -9.73771949e-01  2.87217830e+00]\n",
      " [ 1.11833188e+00  5.82378219e+00  3.77485683e+00]\n",
      " [ 2.65759902e-01 -1.36297544e+00  3.01420362e+00]\n",
      " [ 9.14643676e-01  4.19648205e+00  1.33566313e+00]\n",
      " [ 1.35269561e+00  3.20438654e+00  2.35350570e+00]\n",
      " [ 7.96345243e-01  3.23303471e+00  3.10971925e+00]\n",
      " [ 1.68619001e-01 -1.33034661e+00  3.27263995e+00]\n",
      " [ 7.85616585e-01  3.90893781e+00  1.78753398e+00]\n",
      " [ 1.36636340e+00  3.65137875e+00  1.66431415e+00]\n",
      " [ 2.39712615e-01 -1.05851878e+00  4.65376126e+00]\n",
      " [ 1.85210284e+00  4.18867986e+00  2.51268313e+00]\n",
      " [-6.52765685e-01 -1.10958519e+00  1.97351377e+00]\n",
      " [ 2.64033244e+00 -1.74950969e+00  2.00480304e+00]\n",
      " [ 2.97006102e-01  2.53391668e-02  3.20478675e+00]\n",
      " [ 1.24944377e+00 -1.14766848e+00  2.44784938e+00]\n",
      " [ 1.94733171e-02 -8.27523530e-01  1.85665997e+00]\n",
      " [-7.83583854e-02  5.12403516e+00  2.51839785e+00]\n",
      " [ 1.58511391e+00  3.25853396e+00  3.26641281e+00]\n",
      " [ 9.19014884e-01 -2.44601746e+00  3.11063611e+00]\n",
      " [ 1.84013178e+00 -1.79449876e+00  2.23985648e+00]\n",
      " [ 5.73093132e-01  5.52623240e+00  2.26354250e+00]\n",
      " [ 7.08266708e-01  5.10624372e+00  3.00251949e+00]\n",
      " [ 2.41592483e+00 -1.91154944e+00  2.47404617e+00]\n",
      " [ 1.30242547e+00 -1.30306045e+00  3.24750524e+00]\n",
      " [ 1.27874198e+00  3.66946523e+00  1.69252636e+00]\n",
      " [-2.07610562e-01  1.64461509e+00  2.66158705e+00]\n",
      " [-1.39095638e+00 -1.27541960e+00  9.01475634e-01]\n",
      " [ 2.29950939e-01  1.55017727e-01  2.06529641e+00]\n",
      " [ 5.51414212e-01 -2.32154033e+00  3.11584955e+00]\n",
      " [ 1.08797522e+00 -2.37863321e+00  4.74060586e+00]\n",
      " [-7.50012524e-01  4.48121347e+00  1.65348659e+00]\n",
      " [-5.64069028e-01 -2.21034378e+00  3.28542716e+00]\n",
      " [ 2.91459988e-01  3.43299018e+00  1.47641786e+00]\n",
      " [ 2.84220231e-01  5.84016438e+00  2.34161121e+00]\n",
      " [-3.51253816e-02 -2.83584629e-01  3.73055630e+00]\n",
      " [ 5.10792813e-01 -2.03719675e+00  3.10180776e+00]\n",
      " [ 4.69453724e-01  3.70747329e+00  2.00270023e+00]\n",
      " [-8.96565612e-01 -2.00442371e-01  1.95327584e+00]\n",
      " [ 8.47060119e-01 -2.04442306e+00  1.93905240e+00]\n",
      " [-7.79620505e-01  4.75472179e+00  1.37125662e+00]\n",
      " [ 5.18516097e-01 -3.26926021e+00  1.61463951e+00]\n",
      " [ 1.27454018e+00 -2.07261599e+00  1.03329642e+00]\n",
      " [ 9.86770099e-01  6.08965782e+00  2.18217961e+00]\n",
      " [ 1.67035850e+00 -3.18850230e+00  3.36607755e+00]\n",
      " [ 5.32608443e-01 -3.31823156e+00  2.85929571e+00]\n",
      " [ 1.61640160e+00  2.68683128e+00  2.03094140e+00]\n",
      " [-5.24256212e-01  4.71052067e-01  2.06133295e+00]\n",
      " [ 1.11817132e+00 -2.55683930e+00  2.56793890e+00]\n",
      " [ 1.97959888e+00 -2.97184421e+00  1.70733927e+00]\n",
      " [ 2.89921211e+00  5.78430212e+00  3.92282648e+00]\n",
      " [ 2.46452227e+00  6.19967650e+00  3.23404709e+00]\n",
      " [-6.53928268e-01  4.76656958e+00  1.14796916e+00]\n",
      " [ 2.22544636e+00 -1.62818550e+00  2.11474087e+00]\n",
      " [ 1.95290912e+00  4.66015372e+00  2.76184069e+00]\n",
      " [ 1.12505644e+00 -2.54364266e+00  2.80310694e+00]\n",
      " [ 1.55479158e+00  4.65344178e+00  1.29112360e+00]\n",
      " [ 1.77683488e+00  4.38204750e+00  1.66003854e+00]\n",
      " [ 1.37825944e+00  6.18693802e+00  7.07508460e-01]\n",
      " [-7.13214744e-01 -1.56267209e+00  5.29862761e+00]\n",
      " [ 1.62076415e+00 -1.50229189e+00  3.63786599e+00]\n",
      " [ 1.01490063e+00  2.64707223e+00  1.06975678e+00]\n",
      " [-2.94214920e-01  5.27318404e+00  8.82144116e-01]\n",
      " [-4.61521395e-01  5.66831918e+00  1.36581834e+00]\n",
      " [ 2.38239169e-01  4.58371193e+00  1.95711713e+00]\n",
      " [ 1.22824042e+00 -5.77657540e-01  1.41548569e+00]\n",
      " [ 2.11567076e+00  3.06896151e+00  2.45760916e+00]\n",
      " [ 3.90146058e-01 -2.57878412e+00  5.41508265e+00]\n",
      " [-1.27849653e-03 -1.45231761e+00  1.84078319e+00]\n",
      " [-6.40204110e-01  4.01194996e+00  1.29377531e+00]\n",
      " [-1.00452639e+00  3.95587518e+00  2.21161649e+00]\n",
      " [ 7.89086229e-01  5.83656654e+00  3.52462629e+00]\n",
      " [ 1.13724642e+00 -1.89670518e+00  3.89041805e+00]\n",
      " [ 1.36317258e+00  3.79298219e+00  8.74635337e-01]\n",
      " [ 1.62988867e+00  5.16822353e+00  1.31310250e+00]\n",
      " [-3.57988393e-01  2.95706982e+00  2.74904067e+00]\n",
      " [ 1.65340395e+00 -2.06603665e+00  2.16819192e+00]\n",
      " [ 1.42670890e+00 -1.10427539e+00  1.55810154e+00]\n",
      " [-3.82025513e-01 -2.11233522e+00  2.65623682e+00]\n",
      " [ 1.90577519e+00  4.88601192e+00 -3.93355498e-02]\n",
      " [ 1.48492304e+00 -2.03226233e+00  2.10209072e+00]\n",
      " [ 1.06469217e+00  3.99290116e+00  2.15266769e+00]\n",
      " [-2.05242553e-01 -1.62860129e+00  2.93716165e+00]\n",
      " [-1.51741253e-01  4.58422903e+00  1.06214391e+00]\n",
      " [ 9.20623416e-01 -1.53804963e+00  2.92938116e+00]\n",
      " [ 1.51455021e+00 -1.51827611e+00  3.44488647e+00]\n",
      " [ 1.47010685e+00  4.94710179e+00  4.84644113e-01]\n",
      " [ 2.16274150e+00 -1.31540700e+00  2.21296091e+00]\n",
      " [ 3.62393495e-01 -1.50149880e+00  4.07206629e+00]\n",
      " [-1.50555730e-01  3.57310957e+00  1.67038771e+00]\n",
      " [ 6.73967328e-01  3.25523436e+00  6.35249584e-01]\n",
      " [ 2.18364767e+00 -3.03390241e+00  3.59434299e+00]\n",
      " [ 1.67472723e+00  4.30755822e+00  2.98711590e+00]\n",
      " [ 1.93207355e+00 -2.52311665e+00  1.69994375e+00]\n",
      " [ 1.77656803e+00  3.99467288e+00  1.82180086e+00]\n",
      " [ 2.10364623e-01 -1.64437856e+00  3.38404869e+00]\n",
      " [ 5.05274662e-01 -4.57304707e+00  3.46119415e+00]\n",
      " [ 5.38450034e-01  3.80575488e+00  3.98479958e+00]\n",
      " [ 7.69366402e-01  5.18396624e+00  3.57161702e-01]\n",
      " [ 2.88432468e-01  3.08970992e+00  1.61434489e+00]\n",
      " [-1.83150438e-01  4.21785656e+00  2.24956046e+00]\n",
      " [ 1.84523357e+00  4.58065923e+00  1.08416295e+00]\n",
      " [ 7.36890901e-01  5.40344692e+00  2.71053125e+00]\n",
      " [ 1.54356036e+00  4.08111223e+00  1.70183577e+00]\n",
      " [-4.43833066e-01 -1.05000564e+00  3.06633184e+00]\n",
      " [ 7.91216408e-01  3.49613884e+00  6.08732822e-01]\n",
      " [ 5.09850982e-01  3.35934107e+00  1.64521783e+00]\n",
      " [ 8.21259985e-01  4.91786670e+00  2.97747419e+00]\n",
      " [ 5.99856180e-02 -2.11808712e+00  2.25016197e+00]\n",
      " [ 1.22462626e+00 -1.19686890e+00  5.14382659e+00]\n",
      " [ 1.25536584e+00  4.64269145e+00  4.07631108e+00]\n",
      " [ 1.33670662e+00 -1.74644504e+00  1.83384564e+00]\n",
      " [ 8.94340258e-03 -5.90161550e-01  4.33020997e+00]\n",
      " [ 5.50213007e-01 -2.10817249e+00  1.28524774e+00]\n",
      " [ 2.41199985e-01 -4.36145852e+00  5.03467328e+00]\n",
      " [ 1.82063305e+00  3.30357198e+00  5.10496425e-01]\n",
      " [ 1.87709657e+00  4.76944977e+00  5.19023835e-01]\n",
      " [ 2.26865267e+00 -2.03674726e+00  3.24275188e+00]\n",
      " [-1.79912353e-01  5.08498543e+00  3.54975207e+00]\n",
      " [ 8.16696640e-01  4.17008577e+00  3.13301133e+00]\n",
      " [ 2.38701962e+00 -1.00560026e+00  3.52980945e+00]\n",
      " [ 8.56262848e-01 -2.28477487e+00  2.86779817e+00]\n",
      " [ 1.88231474e+00  3.44256164e+00  3.96533247e+00]\n",
      " [ 1.61769742e+00 -3.35116067e+00  3.22148617e+00]\n",
      " [ 9.59249665e-01  4.68293906e+00  4.31457647e+00]\n",
      " [ 9.30472408e-01 -4.10970065e+00  1.76393190e+00]\n",
      " [ 4.98296075e-01  3.82413151e+00  2.67562582e+00]\n",
      " [ 1.83419400e+00  5.44488919e+00  3.52184624e+00]\n",
      " [ 1.81790134e+00  4.05432875e+00  2.10476250e+00]\n",
      " [ 1.13576681e+00 -2.93286693e+00  2.32782462e+00]\n",
      " [ 1.11114371e+00 -2.73547767e+00  2.67586243e+00]\n",
      " [ 5.92700022e-01 -4.97968521e-01  2.84559525e+00]\n",
      " [ 1.79292393e+00 -1.51939947e-01  1.58567061e+00]\n",
      " [ 4.73346039e-01 -6.64308002e-01  2.62263168e-01]\n",
      " [ 1.92569089e+00  4.39133857e+00  8.29832003e-01]\n",
      " [ 1.16883384e+00 -2.32840090e+00  2.27070083e+00]\n",
      " [ 1.73730780e+00  4.42546234e+00  2.49913075e+00]\n",
      " [ 1.56823411e+00 -2.23440971e+00  2.95764900e+00]\n",
      " [ 1.72345841e+00  3.11484237e+00  2.82852050e+00]\n",
      " [ 2.16429987e+00  4.62072994e+00  2.97612635e+00]\n",
      " [ 3.31011734e+00 -2.48740839e+00  2.12476490e+00]\n",
      " [ 7.93320168e-01 -2.51490596e+00  1.74025330e+00]\n",
      " [-4.20732210e-01 -1.89760802e+00  1.97226647e+00]\n",
      " [-4.50261763e-01 -2.28847740e+00  4.92913894e+00]\n",
      " [ 1.28933778e+00  3.44969159e+00 -4.97722294e-01]\n",
      " [ 1.20641490e+00 -2.89766400e+00  3.78353518e+00]\n",
      " [ 3.01937418e-01  4.33561789e+00  1.41942144e+00]\n",
      " [ 1.65270337e+00  4.88037814e+00  1.84696877e+00]\n",
      " [-2.42532641e-01  2.28082141e-01  2.78489384e+00]\n",
      " [-1.28113261e-01  4.35595241e+00  1.31570453e+00]\n",
      " [-1.09371495e+00  4.73004606e+00  2.73217556e+00]\n",
      " [ 1.41566178e+00  4.47046082e+00  2.69029896e+00]\n",
      " [ 4.58474138e-01 -1.34556558e+00  2.41506556e+00]\n",
      " [ 9.08028473e-01  6.01713005e+00  1.31051270e+00]\n",
      " [ 4.60915322e-01 -3.16986931e+00  2.51181047e+00]\n",
      " [ 1.02821547e+00  5.03287789e+00  2.18425043e+00]\n",
      " [ 1.33175187e+00  5.11830715e+00  2.11419311e+00]\n",
      " [ 2.12860164e+00  5.38340592e+00  1.24190326e+00]\n",
      " [ 1.47001186e+00  4.18768339e+00  2.45830537e-02]\n",
      " [ 1.36991081e+00 -5.96495517e-01  2.74256586e+00]\n",
      " [ 9.49238603e-01 -6.59627384e-01  2.06956174e+00]\n",
      " [-5.79727632e-02  4.98538185e+00  1.25185786e+00]\n",
      " [-4.95564929e-01  5.95192226e+00  2.21949528e+00]\n",
      " [ 8.63421379e-01 -4.30557168e-01  2.68366646e+00]\n",
      " [ 1.24617443e+00  3.83694178e+00  6.38361408e-01]\n",
      " [ 5.71994191e-01 -1.05647087e+00  3.22932933e+00]\n",
      " [ 1.13121750e+00  4.68194985e+00  1.16748177e+00]\n",
      " [ 2.20656076e+00  5.50616718e+00  1.66794070e+00]\n",
      " [ 1.99794800e+00 -2.28882041e-01  5.61410631e+00]\n",
      " [-1.20378215e-01 -1.60475877e+00  3.30061469e+00]\n",
      " [-1.81085181e-01  3.99149508e+00  1.89760051e+00]\n",
      " [ 4.27026002e-01 -1.74385358e+00  3.36327551e+00]\n",
      " [ 2.74725491e+00 -1.74107067e+00  2.41886562e+00]\n",
      " [-7.30000112e-01  6.25456272e+00  1.54561534e+00]\n",
      " [ 2.30265598e+00  3.60921947e+00  1.90563298e+00]\n",
      " [-3.30256773e-01  5.96191801e+00  1.93710348e+00]\n",
      " [ 2.91989126e+00  3.89016835e+00  1.30781271e+00]\n",
      " [ 1.38686858e+00  4.44783090e+00  3.50954103e+00]\n",
      " [ 2.63582087e+00  5.37229673e+00  1.60188172e+00]\n",
      " [ 1.07062167e+00  4.26161588e+00  1.76838033e+00]\n",
      " [ 6.80932189e-01 -2.45706052e+00  2.73929317e+00]\n",
      " [ 1.88644899e+00  4.62100554e+00  2.84159548e+00]\n",
      " [-1.34765799e+00 -9.62895478e-01  1.63332996e+00]\n",
      " [ 3.03809631e-01  3.94423417e+00  1.24212124e+00]\n",
      " [-1.07096103e+00 -2.18696033e+00  3.09370121e+00]\n",
      " [ 1.50278374e+00 -6.31348028e-01  2.78597362e+00]\n",
      " [ 4.33325969e-01 -5.05113428e-01  2.36534159e+00]\n",
      " [ 1.36355055e+00  2.04822310e+00  1.03276068e+00]\n",
      " [ 2.51928467e+00  3.01093042e+00  2.32231839e+00]\n",
      " [ 1.68346749e+00 -1.58437353e+00  2.52666521e+00]\n",
      " [ 1.09999199e+00  4.17368037e+00  2.14922075e+00]\n",
      " [ 1.66556607e+00 -9.37024192e-01  2.55402345e+00]\n",
      " [ 1.91931617e+00  1.56411016e+00  1.48595547e+00]\n",
      " [ 9.57558343e-01 -1.73942706e+00  2.15576775e+00]\n",
      " [ 1.07016808e+00 -1.50584199e+00  3.01733672e+00]\n",
      " [ 1.31623506e+00  4.28810522e+00  2.21619569e+00]\n",
      " [ 2.62733036e-04 -2.14433646e-01  2.05890987e+00]\n",
      " [ 1.12327231e+00 -1.07719191e+00  2.85060665e+00]\n",
      " [ 1.29072659e+00 -2.46588559e+00  3.93490325e+00]\n",
      " [ 4.95242960e-01  6.60770403e+00  9.95251699e-01]\n",
      " [ 2.25761220e+00 -1.61728602e+00  4.28547950e+00]\n",
      " [-2.03411099e-02 -1.27440739e+00  3.73820406e+00]\n",
      " [-2.42138795e-01 -7.41946492e-01  2.36357263e+00]\n",
      " [-6.70104064e-01 -2.70606194e+00  4.21931033e+00]\n",
      " [ 1.38373191e+00  3.53387125e+00  2.59451671e+00]]\n",
      "Test set of X [[-0.03507725 -2.78997236  3.37037135]\n",
      " [ 1.11822324  3.98445891  2.74680627]\n",
      " [ 0.93698726  3.13569383  2.57854418]\n",
      " [-0.66933105 -1.97820705  3.18357024]\n",
      " [ 1.82882202  3.70513339  0.93937054]\n",
      " [ 1.30994441  5.7978664   1.85010926]\n",
      " [ 1.83858127 -1.12169993  3.41593467]\n",
      " [ 1.66906961 -0.49746518  2.00911902]\n",
      " [ 3.23299358  3.59908705  2.99852825]\n",
      " [ 0.84032038  5.44067869  2.15299249]\n",
      " [-1.47192325 -0.66285171  0.6782782 ]\n",
      " [ 0.66471755  4.35995267  0.89011768]\n",
      " [ 0.42879947 -3.7283453   3.11718246]\n",
      " [ 0.33883305  3.90651551  1.92238694]\n",
      " [ 1.89478164 -1.49630219  2.84824068]\n",
      " [ 0.93401293  3.34784233  1.70928575]\n",
      " [ 0.5126741   4.7852688   0.51447051]\n",
      " [ 1.37531642  1.53119457  4.01117983]\n",
      " [ 3.2460247   2.84942165  2.10102604]\n",
      " [ 1.66608824  5.60563356  1.42717996]\n",
      " [ 0.99555981 -1.97506938  2.26854433]\n",
      " [ 0.29609187  4.97017041  1.59454773]\n",
      " [ 0.58012057 -3.15932732  2.85074811]\n",
      " [ 0.37895401  4.0658656   0.63120661]\n",
      " [ 1.55922376  3.9043383   2.42532341]\n",
      " [ 1.37227679  3.21072582  0.56400993]\n",
      " [ 3.35941485  5.24826681  1.1424453 ]\n",
      " [ 1.97903969 -2.15828     2.67654447]\n",
      " [ 0.32397648  3.78259802  0.21219797]\n",
      " [ 0.4829502   3.76092585  2.47131757]\n",
      " [ 0.78717425 -3.18760383  3.03303013]\n",
      " [ 1.9263585   4.15243012  1.95204867]\n",
      " [ 3.02981707 -0.59045829  2.88278708]\n",
      " [-0.88000329 -2.05960681  4.008632  ]\n",
      " [ 2.70899127  4.98828843  2.42609252]\n",
      " [ 0.52251654 -2.75310021  3.10122146]\n",
      " [ 0.5156547  -1.75116295  2.61563253]\n",
      " [-0.64392374  1.06752057  2.51384997]\n",
      " [-1.42293062 -1.20974339  3.43792288]\n",
      " [ 0.5497018  -2.88029287  1.88523916]\n",
      " [ 2.09328637  2.98787992  1.59368292]\n",
      " [ 2.19550945 -3.89107783  2.93821644]\n",
      " [ 0.01165806  3.52115817  1.94487822]\n",
      " [ 0.09203715 -2.64521594  2.78682825]\n",
      " [ 1.29499773  5.16061794  1.40424193]\n",
      " [ 0.16327709  4.57830369  1.16435244]\n",
      " [ 3.04076294  4.19324667  3.07544023]\n",
      " [ 0.53819578  3.05099197  2.83275788]\n",
      " [ 1.29916272 -0.30203345  2.98273837]\n",
      " [ 0.80472375  5.07557788  2.87877168]\n",
      " [ 0.5121739  -3.12874006  2.03070132]\n",
      " [ 2.02208284 -0.77150832  3.78528967]\n",
      " [ 0.00988352 -0.59050547  2.39224167]\n",
      " [ 0.82373899 -2.18545698  2.4036483 ]\n",
      " [ 0.87147142 -3.21513404  2.80541628]\n",
      " [ 0.52742122 -1.98070805  3.3211468 ]\n",
      " [ 0.47300036 -2.35686861  4.32905433]\n",
      " [ 1.39635393 -0.47893186  3.20216193]\n",
      " [ 0.2867203   3.84825482  2.07274668]\n",
      " [ 1.74293326  4.66008014  0.28672907]\n",
      " [ 0.94808785  4.7321192   2.12178474]\n",
      " [ 0.54111653  6.15305106  2.72756228]\n",
      " [ 1.35144557 -3.35664442  2.95488798]\n",
      " [-0.78355456 -2.41587537  3.16000022]\n",
      " [ 0.13196147 -0.97111705  2.92823158]\n",
      " [ 1.97586096 -4.08608868  4.09926086]\n",
      " [-0.60666832  4.91416671  0.86640826]\n",
      " [ 0.71541888 -1.72980085  2.80799948]\n",
      " [ 2.59384523 -1.54176172  3.7392882 ]\n",
      " [-1.24713307  4.92901878  0.45320987]\n",
      " [ 2.56860669 -1.58303703  2.91649722]\n",
      " [ 0.69591458  3.93909378  2.21197138]\n",
      " [ 3.13950603  5.64031528  1.68608568]\n",
      " [ 0.67518665 -2.38582392  2.96883654]\n",
      " [ 3.03153191 -1.12048852  2.72470556]\n",
      " [-0.63762777  4.09104705  1.15980096]\n",
      " [ 0.10899441 -0.43226564  3.15270379]\n",
      " [ 0.85306823 -1.33183432  1.13631941]\n",
      " [ 2.63653634 -0.53250962  4.23701914]\n",
      " [ 2.102906    3.22385582  0.90779887]\n",
      " [ 2.32064716 -1.13081743  2.32647959]\n",
      " [ 1.5776385  -2.22323067  2.62748516]\n",
      " [ 2.03074354 -3.47870811  2.25799053]\n",
      " [ 0.35820903 -1.80257455  2.2081543 ]\n",
      " [-0.96000973  4.49256592  2.57915855]\n",
      " [ 0.36517374 -0.88184874  3.92972469]\n",
      " [ 0.87424055 -0.44770929  0.91366655]\n",
      " [ 1.03953207  4.46029387  2.28744856]\n",
      " [ 1.29108728  5.12537304  2.06056017]\n",
      " [ 0.14983154  4.2053348   1.39178924]]\n",
      "Training set of Y [0 1 1 0 0 0 1 0 1 0 0 0 1 0 0 1 0 1 1 1 1 1 0 0 1 1 0 0 1 1 0 0 1 1 1 1 0\n",
      " 1 0 0 1 1 0 1 1 0 1 1 0 1 1 0 1 1 1 0 0 0 1 0 1 0 0 0 1 1 0 0 0 0 1 0 1 1\n",
      " 0 0 0 1 0 0 0 1 1 1 0 1 0 1 0 1 1 0 1 1 0 0 1 0 1 0 1 1 0 0 0 0 0 0 0 1 0\n",
      " 0 0 1 1 0 1 1 1 1 0 0 1 0 0 1 1 0 1 0 1 0 0 0 1 1 1 1 1 0 1 0 1 0 0 1 1 1\n",
      " 1 0 1 0 0 1 0 0 0 1 0 1 0 0 0 0 1 1 0 0 1 0 1 0 0 1 1 0 1 1 0 0 0 0 0 0 0\n",
      " 1 0 1 0 1 1 1 0 0 1 0 1 0 1 1 0 1 1 1 0 1 1 1 1 0]\n",
      "Test set of Y [1 0 0 1 0 0 1 1 0 0 1 0 1 0 1 0 0 0 0 0 1 0 1 0 0 0 0 1 0 0 1 0 1 1 0 1 1\n",
      " 1 1 1 0 1 0 1 0 0 0 0 1 0 1 1 1 1 1 1 1 1 0 0 0 0 1 1 1 1 0 1 1 0 1 0 0 1\n",
      " 1 0 1 1 1 0 1 1 1 1 0 1 1 0 0 0]\n"
     ]
    }
   ],
   "source": [
    "print(\"Training set of X\",X_train)\n",
    "print(\"Test set of X\",X_test)\n",
    "print(\"Training set of Y\",Y_train)\n",
    "print(\"Test set of Y\",Y_test)"
   ]
  },
  {
   "cell_type": "code",
   "execution_count": 17,
   "metadata": {},
   "outputs": [],
   "source": [
    "#Model Selection- Linearly Saparable so Model that can be use are : Knn model,Logistic,LinearSVC,SVM"
   ]
  },
  {
   "cell_type": "code",
   "execution_count": 20,
   "metadata": {},
   "outputs": [
    {
     "name": "stdout",
     "output_type": "stream",
     "text": [
      "1.0\n",
      "0.9888888888888889\n",
      "              precision    recall  f1-score   support\n",
      "\n",
      "           0       1.00      0.98      0.99        43\n",
      "           1       0.98      1.00      0.99        47\n",
      "\n",
      "    accuracy                           0.99        90\n",
      "   macro avg       0.99      0.99      0.99        90\n",
      "weighted avg       0.99      0.99      0.99        90\n",
      "\n"
     ]
    }
   ],
   "source": [
    "# SUPPORT VECTOR MACHINE\n",
    "\n",
    "from sklearn.svm import LinearSVC\n",
    "from sklearn.svm import SVC\n",
    "from sklearn.metrics import classification_report\n",
    "from sklearn.metrics import confusion_matrix\n",
    "\n",
    "svm = SVC()  \n",
    "svm.fit(X_train,Y_train);\n",
    "print(svm.score(X_train,Y_train))\n",
    "\n",
    "y_pred = svm.predict(X_test)\n",
    "print(svm.score(X_test,Y_test))\n",
    "\n",
    "print(classification_report(Y_test, y_pred))\n"
   ]
  },
  {
   "cell_type": "code",
   "execution_count": 23,
   "metadata": {},
   "outputs": [
    {
     "name": "stdout",
     "output_type": "stream",
     "text": [
      "{'C': 1}\n",
      "1.0\n"
     ]
    }
   ],
   "source": [
    "# Logistic Regression -Classification\n",
    "\n",
    "from sklearn.linear_model import LogisticRegression\n",
    "from sklearn.model_selection import GridSearchCV \n",
    "from sklearn.metrics import roc_curve\n",
    "from sklearn.metrics import roc_auc_score\n",
    "\n",
    "param_grid = {'C': np.arange(1, 50)}\n",
    "logreg = LogisticRegression()\n",
    "lg_cv = GridSearchCV(logreg, param_grid,cv=5)\n",
    "\n",
    "# Fitting and Predicting \n",
    "lg_cv.fit(X_train, Y_train)\n",
    "\n",
    "print(lg_cv.best_params_)\n",
    "print(lg_cv.best_score_)\n"
   ]
  },
  {
   "cell_type": "code",
   "execution_count": 24,
   "metadata": {},
   "outputs": [
    {
     "name": "stdout",
     "output_type": "stream",
     "text": [
      "[1 0 0 1 0 0 1 1 0 0 1 0 1 0 1 0 0 0 0 0 1 0 1 0 0 0 0 1 0 0 1 0 1 1 0 1 1\n",
      " 1 1 1 0 1 0 1 0 0 0 0 1 0 1 1 1 1 1 1 1 1 0 0 0 0 1 1 1 1 0 1 1 0 1 0 0 1\n",
      " 1 0 1 1 1 0 1 1 1 1 0 1 1 0 0 0]\n",
      "1.0\n",
      "1.0\n",
      "              precision    recall  f1-score   support\n",
      "\n",
      "           0       1.00      1.00      1.00        43\n",
      "           1       1.00      1.00      1.00        47\n",
      "\n",
      "    accuracy                           1.00        90\n",
      "   macro avg       1.00      1.00      1.00        90\n",
      "weighted avg       1.00      1.00      1.00        90\n",
      "\n"
     ]
    }
   ],
   "source": [
    "# Predicting\n",
    "y_pred = lg_cv.predict(X_test)\n",
    "\n",
    "print(y_pred)\n",
    "print(lg_cv.score(X_train,Y_train))\n",
    "print(lg_cv.score(X_test,Y_test))\n",
    " \n",
    "print(classification_report(Y_test, y_pred))\n"
   ]
  },
  {
   "cell_type": "code",
   "execution_count": 25,
   "metadata": {},
   "outputs": [],
   "source": [
    "# Best fitted model is logistic regression with 100% accuracy"
   ]
  },
  {
   "cell_type": "code",
   "execution_count": 26,
   "metadata": {},
   "outputs": [
    {
     "data": {
      "text/plain": [
       "LogisticRegression()"
      ]
     },
     "execution_count": 26,
     "metadata": {},
     "output_type": "execute_result"
    }
   ],
   "source": [
    "# Fitting and Predicting Probability\n",
    "\n",
    "logreg.fit(X_train,Y_train)\n"
   ]
  },
  {
   "cell_type": "code",
   "execution_count": 27,
   "metadata": {},
   "outputs": [],
   "source": [
    "y_pred_prob = logreg.predict_proba(X_test)[:,1]\n",
    "\n"
   ]
  },
  {
   "cell_type": "code",
   "execution_count": 28,
   "metadata": {},
   "outputs": [
    {
     "name": "stdout",
     "output_type": "stream",
     "text": [
      "[9.99916610e-01 1.98929399e-03 1.30577762e-02 9.99545598e-01\n",
      " 1.79565995e-03 2.53959679e-05 9.94398005e-01 9.68191153e-01\n",
      " 2.86402633e-03 6.99269161e-05 9.85742478e-01 5.62257643e-04\n",
      " 9.99987452e-01 2.28694530e-03 9.97075730e-01 6.33755705e-03\n",
      " 2.02986997e-04 3.91880180e-01 1.15552431e-02 3.12672298e-05\n",
      " 9.99061668e-01 1.96047783e-04 9.99949666e-01 1.08344849e-03\n",
      " 1.92103985e-03 5.45549559e-03 4.04515481e-05 9.99279850e-01\n",
      " 1.82627782e-03 3.57643041e-03 9.99952659e-01 8.70751146e-04\n",
      " 9.71125526e-01 9.99719437e-01 1.25811985e-04 9.99886091e-01\n",
      " 9.98773882e-01 6.67188092e-01 9.98091391e-01 9.99876208e-01\n",
      " 9.97298258e-03 9.99985198e-01 5.91836716e-03 9.99858363e-01\n",
      " 9.26182531e-05 4.28778412e-04 8.21235282e-04 1.88216133e-02\n",
      " 9.66662323e-01 1.97591737e-04 9.99932562e-01 9.88542099e-01\n",
      " 9.84976608e-01 9.99461443e-01 9.99951286e-01 9.99401428e-01\n",
      " 9.99810786e-01 9.78131878e-01 2.76000405e-03 1.80209230e-04\n",
      " 3.26982895e-04 1.83295634e-05 9.99961326e-01 9.99832835e-01\n",
      " 9.94279342e-01 9.99993595e-01 2.28327802e-04 9.98718150e-01\n",
      " 9.97548753e-01 2.32230721e-04 9.97168754e-01 2.10496383e-03\n",
      " 2.10176354e-05 9.99719958e-01 9.90537214e-01 1.57356627e-03\n",
      " 9.82505618e-01 9.94720863e-01 9.80015316e-01 4.82149375e-03\n",
      " 9.91400315e-01 9.99432518e-01 9.99956546e-01 9.98817819e-01\n",
      " 1.06670059e-03 9.94471301e-01 9.60625965e-01 6.14321906e-04\n",
      " 1.21788920e-04 1.05719575e-03]\n"
     ]
    }
   ],
   "source": [
    "print(y_pred_prob)\n"
   ]
  },
  {
   "cell_type": "code",
   "execution_count": null,
   "metadata": {},
   "outputs": [],
   "source": []
  }
 ],
 "metadata": {
  "kernelspec": {
   "display_name": "Python 3",
   "language": "python",
   "name": "python3"
  },
  "language_info": {
   "codemirror_mode": {
    "name": "ipython",
    "version": 3
   },
   "file_extension": ".py",
   "mimetype": "text/x-python",
   "name": "python",
   "nbconvert_exporter": "python",
   "pygments_lexer": "ipython3",
   "version": "3.7.3"
  }
 },
 "nbformat": 4,
 "nbformat_minor": 4
}
